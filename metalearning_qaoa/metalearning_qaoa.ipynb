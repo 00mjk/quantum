{
  "nbformat": 4,
  "nbformat_minor": 0,
  "metadata": {
    "colab": {
      "name": "TFQ_Example_MetaLearning_QAOA.ipynb",
      "provenance": [],
      "collapsed_sections": [],
      "toc_visible": true
    },
    "kernelspec": {
      "name": "python3",
      "display_name": "Python 3"
    }
  },
  "cells": [
    {
      "cell_type": "markdown",
      "metadata": {
        "id": "d2azAL4KJk-T",
        "colab_type": "text"
      },
      "source": [
        "##### Copyright 2020 The TensorFlow Quantum Authors."
      ]
    },
    {
      "cell_type": "code",
      "metadata": {
        "id": "4UFpHoRvJmwd",
        "colab_type": "code",
        "colab": {}
      },
      "source": [
        "#@title Licensed under the Apache License, Version 2.0 (the \"License\");\n",
        "# you may not use this file except in compliance with the License.\n",
        "# You may obtain a copy of the License at\n",
        "#\n",
        "# https://www.apache.org/licenses/LICENSE-2.0\n",
        "#\n",
        "# Unless required by applicable law or agreed to in writing, software\n",
        "# distributed under the License is distributed on an \"AS IS\" BASIS,\n",
        "# WITHOUT WARRANTIES OR CONDITIONS OF ANY KIND, either express or implied.\n",
        "# See the License for the specific language governing permissions and\n",
        "# limitations under the License."
      ],
      "execution_count": 0,
      "outputs": []
    },
    {
      "cell_type": "markdown",
      "metadata": {
        "id": "2BswWgdtnmSP",
        "colab_type": "text"
      },
      "source": [
        "# Meta-Learning for QAOA\n",
        "*Written by Michael Broughton, Antonio J. Martinez, and Guillaume Verdon*\n",
        "\n",
        "In this notebook you will explore the application of meta-learning techniques from [here](https://arxiv.org/abs/1907.05415) to improve initialization of QAOA.\n"
      ]
    },
    {
      "cell_type": "markdown",
      "metadata": {
        "id": "MH1spy1rJ2ko",
        "colab_type": "text"
      },
      "source": [
        "[![Open In Colab](https://colab.research.google.com/assets/colab-badge.svg)](https://colab.research.google.com/github/tensorflow/quantum/blob/research/metalearning_qaoa/metalearning_qaoa.ipynb)"
      ]
    },
    {
      "cell_type": "markdown",
      "metadata": {
        "id": "IrWw_xv4fs44",
        "colab_type": "text"
      },
      "source": [
        "## Import dependencies"
      ]
    },
    {
      "cell_type": "code",
      "metadata": {
        "id": "gqx89K2caCR7",
        "colab_type": "code",
        "colab": {
          "base_uri": "https://localhost:8080/",
          "height": 1000
        },
        "outputId": "33bc5ce2-44e9-4ba9-8c17-f3bc737b4605"
      },
      "source": [
        "!pip install --upgrade cirq==0.7.0"
      ],
      "execution_count": 2,
      "outputs": [
        {
          "output_type": "stream",
          "text": [
            "Collecting cirq==0.7.0\n",
            "\u001b[?25l  Downloading https://files.pythonhosted.org/packages/53/29/a66c4c28306dae359745e37c4c10120e477da44cb050d06d8ceb1117a22a/cirq-0.7.0-py3-none-any.whl (1.2MB)\n",
            "\r\u001b[K     |▎                               | 10kB 13.0MB/s eta 0:00:01\r\u001b[K     |▌                               | 20kB 3.1MB/s eta 0:00:01\r\u001b[K     |▉                               | 30kB 4.5MB/s eta 0:00:01\r\u001b[K     |█                               | 40kB 5.8MB/s eta 0:00:01\r\u001b[K     |█▎                              | 51kB 3.7MB/s eta 0:00:01\r\u001b[K     |█▋                              | 61kB 4.4MB/s eta 0:00:01\r\u001b[K     |█▉                              | 71kB 5.0MB/s eta 0:00:01\r\u001b[K     |██▏                             | 81kB 5.6MB/s eta 0:00:01\r\u001b[K     |██▍                             | 92kB 6.3MB/s eta 0:00:01\r\u001b[K     |██▋                             | 102kB 4.9MB/s eta 0:00:01\r\u001b[K     |███                             | 112kB 4.9MB/s eta 0:00:01\r\u001b[K     |███▏                            | 122kB 4.9MB/s eta 0:00:01\r\u001b[K     |███▍                            | 133kB 4.9MB/s eta 0:00:01\r\u001b[K     |███▊                            | 143kB 4.9MB/s eta 0:00:01\r\u001b[K     |████                            | 153kB 4.9MB/s eta 0:00:01\r\u001b[K     |████▎                           | 163kB 4.9MB/s eta 0:00:01\r\u001b[K     |████▌                           | 174kB 4.9MB/s eta 0:00:01\r\u001b[K     |████▊                           | 184kB 4.9MB/s eta 0:00:01\r\u001b[K     |█████                           | 194kB 4.9MB/s eta 0:00:01\r\u001b[K     |█████▎                          | 204kB 4.9MB/s eta 0:00:01\r\u001b[K     |█████▌                          | 215kB 4.9MB/s eta 0:00:01\r\u001b[K     |█████▉                          | 225kB 4.9MB/s eta 0:00:01\r\u001b[K     |██████                          | 235kB 4.9MB/s eta 0:00:01\r\u001b[K     |██████▍                         | 245kB 4.9MB/s eta 0:00:01\r\u001b[K     |██████▋                         | 256kB 4.9MB/s eta 0:00:01\r\u001b[K     |██████▉                         | 266kB 4.9MB/s eta 0:00:01\r\u001b[K     |███████▏                        | 276kB 4.9MB/s eta 0:00:01\r\u001b[K     |███████▍                        | 286kB 4.9MB/s eta 0:00:01\r\u001b[K     |███████▋                        | 296kB 4.9MB/s eta 0:00:01\r\u001b[K     |████████                        | 307kB 4.9MB/s eta 0:00:01\r\u001b[K     |████████▏                       | 317kB 4.9MB/s eta 0:00:01\r\u001b[K     |████████▌                       | 327kB 4.9MB/s eta 0:00:01\r\u001b[K     |████████▊                       | 337kB 4.9MB/s eta 0:00:01\r\u001b[K     |█████████                       | 348kB 4.9MB/s eta 0:00:01\r\u001b[K     |█████████▎                      | 358kB 4.9MB/s eta 0:00:01\r\u001b[K     |█████████▌                      | 368kB 4.9MB/s eta 0:00:01\r\u001b[K     |█████████▊                      | 378kB 4.9MB/s eta 0:00:01\r\u001b[K     |██████████                      | 389kB 4.9MB/s eta 0:00:01\r\u001b[K     |██████████▎                     | 399kB 4.9MB/s eta 0:00:01\r\u001b[K     |██████████▋                     | 409kB 4.9MB/s eta 0:00:01\r\u001b[K     |██████████▉                     | 419kB 4.9MB/s eta 0:00:01\r\u001b[K     |███████████                     | 430kB 4.9MB/s eta 0:00:01\r\u001b[K     |███████████▍                    | 440kB 4.9MB/s eta 0:00:01\r\u001b[K     |███████████▋                    | 450kB 4.9MB/s eta 0:00:01\r\u001b[K     |███████████▉                    | 460kB 4.9MB/s eta 0:00:01\r\u001b[K     |████████████▏                   | 471kB 4.9MB/s eta 0:00:01\r\u001b[K     |████████████▍                   | 481kB 4.9MB/s eta 0:00:01\r\u001b[K     |████████████▊                   | 491kB 4.9MB/s eta 0:00:01\r\u001b[K     |█████████████                   | 501kB 4.9MB/s eta 0:00:01\r\u001b[K     |█████████████▏                  | 512kB 4.9MB/s eta 0:00:01\r\u001b[K     |█████████████▌                  | 522kB 4.9MB/s eta 0:00:01\r\u001b[K     |█████████████▊                  | 532kB 4.9MB/s eta 0:00:01\r\u001b[K     |██████████████                  | 542kB 4.9MB/s eta 0:00:01\r\u001b[K     |██████████████▎                 | 552kB 4.9MB/s eta 0:00:01\r\u001b[K     |██████████████▌                 | 563kB 4.9MB/s eta 0:00:01\r\u001b[K     |██████████████▉                 | 573kB 4.9MB/s eta 0:00:01\r\u001b[K     |███████████████                 | 583kB 4.9MB/s eta 0:00:01\r\u001b[K     |███████████████▎                | 593kB 4.9MB/s eta 0:00:01\r\u001b[K     |███████████████▋                | 604kB 4.9MB/s eta 0:00:01\r\u001b[K     |███████████████▉                | 614kB 4.9MB/s eta 0:00:01\r\u001b[K     |████████████████                | 624kB 4.9MB/s eta 0:00:01\r\u001b[K     |████████████████▍               | 634kB 4.9MB/s eta 0:00:01\r\u001b[K     |████████████████▋               | 645kB 4.9MB/s eta 0:00:01\r\u001b[K     |█████████████████               | 655kB 4.9MB/s eta 0:00:01\r\u001b[K     |█████████████████▏              | 665kB 4.9MB/s eta 0:00:01\r\u001b[K     |█████████████████▍              | 675kB 4.9MB/s eta 0:00:01\r\u001b[K     |█████████████████▊              | 686kB 4.9MB/s eta 0:00:01\r\u001b[K     |██████████████████              | 696kB 4.9MB/s eta 0:00:01\r\u001b[K     |██████████████████▏             | 706kB 4.9MB/s eta 0:00:01\r\u001b[K     |██████████████████▌             | 716kB 4.9MB/s eta 0:00:01\r\u001b[K     |██████████████████▊             | 727kB 4.9MB/s eta 0:00:01\r\u001b[K     |███████████████████             | 737kB 4.9MB/s eta 0:00:01\r\u001b[K     |███████████████████▎            | 747kB 4.9MB/s eta 0:00:01\r\u001b[K     |███████████████████▌            | 757kB 4.9MB/s eta 0:00:01\r\u001b[K     |███████████████████▉            | 768kB 4.9MB/s eta 0:00:01\r\u001b[K     |████████████████████            | 778kB 4.9MB/s eta 0:00:01\r\u001b[K     |████████████████████▎           | 788kB 4.9MB/s eta 0:00:01\r\u001b[K     |████████████████████▋           | 798kB 4.9MB/s eta 0:00:01\r\u001b[K     |████████████████████▉           | 808kB 4.9MB/s eta 0:00:01\r\u001b[K     |█████████████████████▏          | 819kB 4.9MB/s eta 0:00:01\r\u001b[K     |█████████████████████▍          | 829kB 4.9MB/s eta 0:00:01\r\u001b[K     |█████████████████████▋          | 839kB 4.9MB/s eta 0:00:01\r\u001b[K     |██████████████████████          | 849kB 4.9MB/s eta 0:00:01\r\u001b[K     |██████████████████████▏         | 860kB 4.9MB/s eta 0:00:01\r\u001b[K     |██████████████████████▍         | 870kB 4.9MB/s eta 0:00:01\r\u001b[K     |██████████████████████▊         | 880kB 4.9MB/s eta 0:00:01\r\u001b[K     |███████████████████████         | 890kB 4.9MB/s eta 0:00:01\r\u001b[K     |███████████████████████▎        | 901kB 4.9MB/s eta 0:00:01\r\u001b[K     |███████████████████████▌        | 911kB 4.9MB/s eta 0:00:01\r\u001b[K     |███████████████████████▊        | 921kB 4.9MB/s eta 0:00:01\r\u001b[K     |████████████████████████        | 931kB 4.9MB/s eta 0:00:01\r\u001b[K     |████████████████████████▎       | 942kB 4.9MB/s eta 0:00:01\r\u001b[K     |████████████████████████▌       | 952kB 4.9MB/s eta 0:00:01\r\u001b[K     |████████████████████████▉       | 962kB 4.9MB/s eta 0:00:01\r\u001b[K     |█████████████████████████       | 972kB 4.9MB/s eta 0:00:01\r\u001b[K     |█████████████████████████▍      | 983kB 4.9MB/s eta 0:00:01\r\u001b[K     |█████████████████████████▋      | 993kB 4.9MB/s eta 0:00:01\r\u001b[K     |█████████████████████████▉      | 1.0MB 4.9MB/s eta 0:00:01\r\u001b[K     |██████████████████████████▏     | 1.0MB 4.9MB/s eta 0:00:01\r\u001b[K     |██████████████████████████▍     | 1.0MB 4.9MB/s eta 0:00:01\r\u001b[K     |██████████████████████████▋     | 1.0MB 4.9MB/s eta 0:00:01\r\u001b[K     |███████████████████████████     | 1.0MB 4.9MB/s eta 0:00:01\r\u001b[K     |███████████████████████████▏    | 1.1MB 4.9MB/s eta 0:00:01\r\u001b[K     |███████████████████████████▌    | 1.1MB 4.9MB/s eta 0:00:01\r\u001b[K     |███████████████████████████▊    | 1.1MB 4.9MB/s eta 0:00:01\r\u001b[K     |████████████████████████████    | 1.1MB 4.9MB/s eta 0:00:01\r\u001b[K     |████████████████████████████▎   | 1.1MB 4.9MB/s eta 0:00:01\r\u001b[K     |████████████████████████████▌   | 1.1MB 4.9MB/s eta 0:00:01\r\u001b[K     |████████████████████████████▊   | 1.1MB 4.9MB/s eta 0:00:01\r\u001b[K     |█████████████████████████████   | 1.1MB 4.9MB/s eta 0:00:01\r\u001b[K     |█████████████████████████████▎  | 1.1MB 4.9MB/s eta 0:00:01\r\u001b[K     |█████████████████████████████▋  | 1.1MB 4.9MB/s eta 0:00:01\r\u001b[K     |█████████████████████████████▉  | 1.2MB 4.9MB/s eta 0:00:01\r\u001b[K     |██████████████████████████████  | 1.2MB 4.9MB/s eta 0:00:01\r\u001b[K     |██████████████████████████████▍ | 1.2MB 4.9MB/s eta 0:00:01\r\u001b[K     |██████████████████████████████▋ | 1.2MB 4.9MB/s eta 0:00:01\r\u001b[K     |██████████████████████████████▉ | 1.2MB 4.9MB/s eta 0:00:01\r\u001b[K     |███████████████████████████████▏| 1.2MB 4.9MB/s eta 0:00:01\r\u001b[K     |███████████████████████████████▍| 1.2MB 4.9MB/s eta 0:00:01\r\u001b[K     |███████████████████████████████▊| 1.2MB 4.9MB/s eta 0:00:01\r\u001b[K     |████████████████████████████████| 1.2MB 4.9MB/s eta 0:00:01\r\u001b[K     |████████████████████████████████| 1.2MB 4.9MB/s \n",
            "\u001b[?25hRequirement already satisfied, skipping upgrade: pandas in /usr/local/lib/python3.6/dist-packages (from cirq==0.7.0) (0.25.3)\n",
            "Requirement already satisfied, skipping upgrade: numpy~=1.16 in /usr/local/lib/python3.6/dist-packages (from cirq==0.7.0) (1.17.5)\n",
            "Requirement already satisfied, skipping upgrade: dataclasses; python_version < \"3.7\" in /usr/local/lib/python3.6/dist-packages (from cirq==0.7.0) (0.7)\n",
            "Requirement already satisfied, skipping upgrade: sortedcontainers~=2.0 in /usr/local/lib/python3.6/dist-packages (from cirq==0.7.0) (2.1.0)\n",
            "Collecting networkx==2.3\n",
            "\u001b[?25l  Downloading https://files.pythonhosted.org/packages/85/08/f20aef11d4c343b557e5de6b9548761811eb16e438cee3d32b1c66c8566b/networkx-2.3.zip (1.7MB)\n",
            "\u001b[K     |████████████████████████████████| 1.8MB 51.0MB/s \n",
            "\u001b[?25hRequirement already satisfied, skipping upgrade: google-api-python-client~=1.6 in /usr/local/lib/python3.6/dist-packages (from cirq==0.7.0) (1.7.11)\n",
            "Collecting protobuf==3.8.0\n",
            "\u001b[?25l  Downloading https://files.pythonhosted.org/packages/d2/fb/29de8d08967f0cce1bb10b39846d836b0f3bf6776ddc36aed7c73498ca7e/protobuf-3.8.0-cp36-cp36m-manylinux1_x86_64.whl (1.2MB)\n",
            "\u001b[K     |████████████████████████████████| 1.2MB 46.0MB/s \n",
            "\u001b[?25hRequirement already satisfied, skipping upgrade: matplotlib~=3.0 in /usr/local/lib/python3.6/dist-packages (from cirq==0.7.0) (3.1.3)\n",
            "Requirement already satisfied, skipping upgrade: requests~=2.18 in /usr/local/lib/python3.6/dist-packages (from cirq==0.7.0) (2.21.0)\n",
            "Collecting sympy==1.4\n",
            "\u001b[?25l  Downloading https://files.pythonhosted.org/packages/21/21/f4105795ca7f35c541d82c5b06be684dd2f5cb4f508fb487cd7aea4de776/sympy-1.4-py2.py3-none-any.whl (5.3MB)\n",
            "\u001b[K     |████████████████████████████████| 5.3MB 49.3MB/s \n",
            "\u001b[?25hRequirement already satisfied, skipping upgrade: scipy in /usr/local/lib/python3.6/dist-packages (from cirq==0.7.0) (1.4.1)\n",
            "Requirement already satisfied, skipping upgrade: typing-extensions in /usr/local/lib/python3.6/dist-packages (from cirq==0.7.0) (3.6.6)\n",
            "Requirement already satisfied, skipping upgrade: python-dateutil>=2.6.1 in /usr/local/lib/python3.6/dist-packages (from pandas->cirq==0.7.0) (2.6.1)\n",
            "Requirement already satisfied, skipping upgrade: pytz>=2017.2 in /usr/local/lib/python3.6/dist-packages (from pandas->cirq==0.7.0) (2018.9)\n",
            "Requirement already satisfied, skipping upgrade: decorator>=4.3.0 in /usr/local/lib/python3.6/dist-packages (from networkx==2.3->cirq==0.7.0) (4.4.1)\n",
            "Requirement already satisfied, skipping upgrade: google-auth>=1.4.1 in /usr/local/lib/python3.6/dist-packages (from google-api-python-client~=1.6->cirq==0.7.0) (1.7.2)\n",
            "Requirement already satisfied, skipping upgrade: google-auth-httplib2>=0.0.3 in /usr/local/lib/python3.6/dist-packages (from google-api-python-client~=1.6->cirq==0.7.0) (0.0.3)\n",
            "Requirement already satisfied, skipping upgrade: uritemplate<4dev,>=3.0.0 in /usr/local/lib/python3.6/dist-packages (from google-api-python-client~=1.6->cirq==0.7.0) (3.0.1)\n",
            "Requirement already satisfied, skipping upgrade: httplib2<1dev,>=0.9.2 in /usr/local/lib/python3.6/dist-packages (from google-api-python-client~=1.6->cirq==0.7.0) (0.11.3)\n",
            "Requirement already satisfied, skipping upgrade: six<2dev,>=1.6.1 in /usr/local/lib/python3.6/dist-packages (from google-api-python-client~=1.6->cirq==0.7.0) (1.12.0)\n",
            "Requirement already satisfied, skipping upgrade: setuptools in /usr/local/lib/python3.6/dist-packages (from protobuf==3.8.0->cirq==0.7.0) (45.1.0)\n",
            "Requirement already satisfied, skipping upgrade: kiwisolver>=1.0.1 in /usr/local/lib/python3.6/dist-packages (from matplotlib~=3.0->cirq==0.7.0) (1.1.0)\n",
            "Requirement already satisfied, skipping upgrade: pyparsing!=2.0.4,!=2.1.2,!=2.1.6,>=2.0.1 in /usr/local/lib/python3.6/dist-packages (from matplotlib~=3.0->cirq==0.7.0) (2.4.6)\n",
            "Requirement already satisfied, skipping upgrade: cycler>=0.10 in /usr/local/lib/python3.6/dist-packages (from matplotlib~=3.0->cirq==0.7.0) (0.10.0)\n",
            "Requirement already satisfied, skipping upgrade: urllib3<1.25,>=1.21.1 in /usr/local/lib/python3.6/dist-packages (from requests~=2.18->cirq==0.7.0) (1.24.3)\n",
            "Requirement already satisfied, skipping upgrade: certifi>=2017.4.17 in /usr/local/lib/python3.6/dist-packages (from requests~=2.18->cirq==0.7.0) (2019.11.28)\n",
            "Requirement already satisfied, skipping upgrade: chardet<3.1.0,>=3.0.2 in /usr/local/lib/python3.6/dist-packages (from requests~=2.18->cirq==0.7.0) (3.0.4)\n",
            "Requirement already satisfied, skipping upgrade: idna<2.9,>=2.5 in /usr/local/lib/python3.6/dist-packages (from requests~=2.18->cirq==0.7.0) (2.8)\n",
            "Requirement already satisfied, skipping upgrade: mpmath>=0.19 in /usr/local/lib/python3.6/dist-packages (from sympy==1.4->cirq==0.7.0) (1.1.0)\n",
            "Requirement already satisfied, skipping upgrade: cachetools<3.2,>=2.0.0 in /usr/local/lib/python3.6/dist-packages (from google-auth>=1.4.1->google-api-python-client~=1.6->cirq==0.7.0) (3.1.1)\n",
            "Requirement already satisfied, skipping upgrade: rsa<4.1,>=3.1.4 in /usr/local/lib/python3.6/dist-packages (from google-auth>=1.4.1->google-api-python-client~=1.6->cirq==0.7.0) (4.0)\n",
            "Requirement already satisfied, skipping upgrade: pyasn1-modules>=0.2.1 in /usr/local/lib/python3.6/dist-packages (from google-auth>=1.4.1->google-api-python-client~=1.6->cirq==0.7.0) (0.2.8)\n",
            "Requirement already satisfied, skipping upgrade: pyasn1>=0.1.3 in /usr/local/lib/python3.6/dist-packages (from rsa<4.1,>=3.1.4->google-auth>=1.4.1->google-api-python-client~=1.6->cirq==0.7.0) (0.4.8)\n",
            "Building wheels for collected packages: networkx\n",
            "  Building wheel for networkx (setup.py) ... \u001b[?25l\u001b[?25hdone\n",
            "  Created wheel for networkx: filename=networkx-2.3-py2.py3-none-any.whl size=1556408 sha256=e425c19a37b1cbcb46e04fab17948ce271d20113fb80c9969ce57b0f73204017\n",
            "  Stored in directory: /root/.cache/pip/wheels/de/63/64/3699be2a9d0ccdb37c7f16329acf3863fd76eda58c39c737af\n",
            "Successfully built networkx\n",
            "\u001b[31mERROR: albumentations 0.1.12 has requirement imgaug<0.2.7,>=0.2.5, but you'll have imgaug 0.2.9 which is incompatible.\u001b[0m\n",
            "Installing collected packages: networkx, protobuf, sympy, cirq\n",
            "  Found existing installation: networkx 2.4\n",
            "    Uninstalling networkx-2.4:\n",
            "      Successfully uninstalled networkx-2.4\n",
            "  Found existing installation: protobuf 3.10.0\n",
            "    Uninstalling protobuf-3.10.0:\n",
            "      Successfully uninstalled protobuf-3.10.0\n",
            "  Found existing installation: sympy 1.1.1\n",
            "    Uninstalling sympy-1.1.1:\n",
            "      Successfully uninstalled sympy-1.1.1\n",
            "Successfully installed cirq-0.7.0 networkx-2.3 protobuf-3.8.0 sympy-1.4\n"
          ],
          "name": "stdout"
        },
        {
          "output_type": "display_data",
          "data": {
            "application/vnd.colab-display-data+json": {
              "pip_warning": {
                "packages": [
                  "google"
                ]
              }
            }
          },
          "metadata": {
            "tags": []
          }
        }
      ]
    },
    {
      "cell_type": "code",
      "metadata": {
        "id": "JuXxC5fbaGAS",
        "colab_type": "code",
        "colab": {
          "base_uri": "https://localhost:8080/",
          "height": 80
        },
        "outputId": "41b0c422-7316-4b7d-8183-a033b7c1b743"
      },
      "source": [
        "!pip install --upgrade tensorflow==2.1.0"
      ],
      "execution_count": 0,
      "outputs": [
        {
          "output_type": "stream",
          "text": [
            "Collecting tensorflow==2.1.0\n",
            "\u001b[?25l  Downloading https://files.pythonhosted.org/packages/85/d4/c0cd1057b331bc38b65478302114194bd8e1b9c2bbc06e300935c0e93d90/tensorflow-2.1.0-cp36-cp36m-manylinux2010_x86_64.whl (421.8MB)\n",
            "\u001b[K     |██████████████████████████      | 343.8MB 1.3MB/s eta 0:01:03"
          ],
          "name": "stdout"
        }
      ]
    },
    {
      "cell_type": "code",
      "metadata": {
        "id": "fyrqkto1aHQV",
        "colab_type": "code",
        "colab": {}
      },
      "source": [
        "!pip install tfq-nightly"
      ],
      "execution_count": 0,
      "outputs": []
    },
    {
      "cell_type": "code",
      "metadata": {
        "id": "kW2sb1rAfhwt",
        "colab_type": "code",
        "colab": {}
      },
      "source": [
        "import cirq\n",
        "import networkx as nx\n",
        "import numpy as np\n",
        "import random\n",
        "import sympy\n",
        "import tensorflow as tf\n",
        "import tensorflow_quantum as tfq\n",
        "np.random.seed(123)\n",
        "random.seed(123)"
      ],
      "execution_count": 0,
      "outputs": []
    },
    {
      "cell_type": "markdown",
      "metadata": {
        "id": "r0rC9eTXqPaR",
        "colab_type": "text"
      },
      "source": [
        "## QAOA\n",
        "\n"
      ]
    },
    {
      "cell_type": "markdown",
      "metadata": {
        "id": "JywerwWEqsqY",
        "colab_type": "text"
      },
      "source": [
        "The QAOA ansatz consists of repeated applications of a mixer Hamiltonian $\\hat{H}_M$ and the cost Hamiltonian $\\hat{H}_C$.  The total applied unitary is\n",
        "$$\\hat{U}(\\eta,\\gamma) = \\prod_{j=1}^{p}e^{-i\\eta_{j}\\hat{H}_M}e^{-i\\gamma_{j} \\hat{H}_C},$$\n",
        "where $p$ is the number of timesthe mixer and cost are applied; the parameters $\\eta_j, \\gamma_j$ are to be optimized to produce a bitstring of minimal energy with respect to $\\hat{H}_C$.\n",
        "\n",
        "One traditional family of Hamiltonians used in QAOA are the Ising models.  These are defined as\n",
        "$$\\hat{H}_\\mathrm{P}=\\sum_i h_i \\hat{Z}^{(i)}+\\sum_{i,j} J_{ij} \\hat{Z}^{(i)}\\hat{Z}^{(j)}.$$\n",
        "There is a one-to-one mapping between weighted graphs and Ising models: $h_i$ can be thought of as the weight of a graph node $i$ and $J_{ij}$ can be thought of as the weight of a graph edge between nodes $i$ and $j$.  In applications such as [MaxCut](https://en.wikipedia.org/wiki/Maximum_cut), we have $h_i = 0$ and $J_{ij} = 1 \\forall i, j$.  We this define a function that takes a graph and outputs the corresponding Ising model:"
      ]
    },
    {
      "cell_type": "code",
      "metadata": {
        "id": "OsYSfSCrqVMp",
        "colab_type": "code",
        "colab": {}
      },
      "source": [
        "def maxcut_qaoa_from_graph(graph, p):\n",
        "  qubits = cirq.GridQubit.rect(1, len(graph.nodes))\n",
        "  qaoa_circuit = cirq.Circuit()\n",
        "  # Initial equal superposition\n",
        "  for qubit in qubits:\n",
        "    qaoa_circuit += cirq.H(qubit)\n",
        "  qaoa_symbols = []\n",
        "  # Stack the parameterized costs and mixers\n",
        "  for l_num in range(p):\n",
        "    qaoa_symbols.append(sympy.Symbol(\"gamma_{}\".format(l_num)))\n",
        "    for e in graph.edges():\n",
        "      qaoa_circuit += cirq.ZZ(qubits[e[0]], qubits[e[1]])**qaoa_symbols[-1]\n",
        "    qaoa_symbols.append(sympy.Symbol(\"eta_{}\".format(l_num)))\n",
        "    for n in graph.nodes():\n",
        "      qaoa_circuit += cirq.X(qubits[n])**qaoa_symbols[-1]\n",
        "  # Define the cost as a Cirq PauliSum\n",
        "  cost_op = None\n",
        "  for e in graph.edges():\n",
        "    if cost_op is None:\n",
        "      cost_op = cirq.Z(qubits[e[0]])*cirq.Z(qubits[e[1]])\n",
        "    else:\n",
        "      cost_op += cirq.Z(qubits[e[0]])*cirq.Z(qubits[e[1]])\n",
        "  return qaoa_circuit, qaoa_symbols, cost_op"
      ],
      "execution_count": 0,
      "outputs": []
    },
    {
      "cell_type": "markdown",
      "metadata": {
        "id": "1qsBNoLYr3M4",
        "colab_type": "text"
      },
      "source": [
        "## Meta-Learning for MaxCut"
      ]
    },
    {
      "cell_type": "markdown",
      "metadata": {
        "id": "EbUFDaCtgc78",
        "colab_type": "text"
      },
      "source": [
        "The idea of meta-learning for optimization is to train an outer-loop optimizer on many instances of a problem class, to enhance the efficiency of solving unseen instances.  In other words, the learner is attempting to extract the common structure among instances of a particular class of problems.\n",
        "\n",
        "Here, you will use a recurrent neural network to find good initial parameter settings for MaxCut QAOA instances.  As shown in the [original paper](https://arxiv.org/abs/1907.05415), this is an effective method for overcoming the challenge of [\"barren plateaus\"](https://www.nature.com/articles/s41467-018-07090-4) in quantum machine learning.\n",
        "\n",
        "To this end we define a function that generates a set of random MaxCut QAOA instances, based on graphs sampled from an [Erdős–Rényi](https://en.wikipedia.org/wiki/Erd%C5%91s%E2%80%93R%C3%A9nyi_model) distribution:"
      ]
    },
    {
      "cell_type": "code",
      "metadata": {
        "id": "F2iWPCuIf1DZ",
        "colab_type": "code",
        "colab": {}
      },
      "source": [
        "def generate_data(n_nodes, n_points):\n",
        "  datapoints = []\n",
        "  costs = []\n",
        "  for _ in range(n_points):\n",
        "    random_graph = nx.gnp_random_graph(n_nodes, p=3. / n_nodes)\n",
        "    circuit, symbols, cost_op = maxcut_qaoa_from_graph(random_graph, 1)\n",
        "    datapoints.append(circuit)\n",
        "    costs.append([cost_op])\n",
        "  return datapoints, symbols, costs"
      ],
      "execution_count": 0,
      "outputs": []
    },
    {
      "cell_type": "markdown",
      "metadata": {
        "id": "kqp69jRYgqUy",
        "colab_type": "text"
      },
      "source": [
        "Since our recurrent neural network will have both classical and quantum components, we will need to define a custom RNN layer:"
      ]
    },
    {
      "cell_type": "code",
      "metadata": {
        "id": "1ufim5zxtK5n",
        "colab_type": "code",
        "colab": {}
      },
      "source": [
        "class QRNN(tf.keras.layers.Layer):\n",
        "  def __init__(self, symbol_names):\n",
        "    super(QRNN, self).__init__()\n",
        "    self.shared = tf.keras.layers.Dense(25, name=\"shared\")\n",
        "    self.state = tf.keras.layers.Dense(25, name=\"state\")\n",
        "    self.params = tf.keras.layers.Dense(2, name=\"params\")\n",
        "    self.expectation = tfq.layers.Expectation()\n",
        "    self.symbol_names = symbol_names\n",
        "\n",
        "  def call(self, inputs):\n",
        "    circuits = inputs[0]\n",
        "    ops = inputs[1]\n",
        "    state = inputs[2]\n",
        "    params = inputs[3]\n",
        "    prev_output = inputs[3]\n",
        "    joined = tf.keras.layers.concatenate([state, params, prev_output])\n",
        "    shared = self.shared(joined)\n",
        "    s_inp = self.state(shared)\n",
        "    p_inp = self.params(shared)\n",
        "    exp_out = self.expectation(circuits,\n",
        "                               symbol_names=self.symbol_names,\n",
        "                               symbol_values=p_inp,\n",
        "                               operators=ops)\n",
        "    return [circuits, ops, s_inp, p_inp, exp_out]"
      ],
      "execution_count": 0,
      "outputs": []
    },
    {
      "cell_type": "markdown",
      "metadata": {
        "id": "q4XJuhHfw8ZA",
        "colab_type": "text"
      },
      "source": [
        "This layer is stacked to produce the meta-learner RNN.  We choose 5 shots of optimization:"
      ]
    },
    {
      "cell_type": "code",
      "metadata": {
        "id": "XPL-CRJUgj_X",
        "colab_type": "code",
        "colab": {}
      },
      "source": [
        "# Generate random MaxCut instances as training data.\n",
        "N_QUBITS = 10\n",
        "\n",
        "# For a more accurate optimizer on testing data, increase N_POINTS\n",
        "N_POINTS = 500\n",
        "circuits, symbols, ops = generate_data(N_QUBITS, N_POINTS)\n",
        "circuit_tensor = tfq.convert_to_tensor(circuits)\n",
        "ops_tensor = tfq.convert_to_tensor(ops)\n",
        "\n",
        "# Unroll the RNN through time.\n",
        "state_inp = tf.keras.Input(shape=(25,))\n",
        "params_inp = tf.keras.Input(shape=(2,))\n",
        "exp_inp = tf.keras.Input(shape=(25,))\n",
        "\n",
        "op_inp = tf.keras.Input(shape=(1,), dtype=tf.dtypes.string)\n",
        "circuit_inp = tf.keras.Input(shape=(), dtype=tf.dtypes.string)\n",
        "\n",
        "rnn_0 = QRNN(symbols)\n",
        "rnn_1 = QRNN(symbols)\n",
        "rnn_2 = QRNN(symbols)\n",
        "rnn_3 = QRNN(symbols)\n",
        "rnn_4 = QRNN(symbols)\n",
        "output_0 = rnn_0([circuit_inp, op_inp, state_inp, params_inp, exp_inp])\n",
        "output_1 = rnn_1(output_0)\n",
        "output_2 = rnn_2(output_1)\n",
        "output_3 = rnn_3(output_2)\n",
        "output_4 = rnn_4(output_3)"
      ],
      "execution_count": 0,
      "outputs": []
    },
    {
      "cell_type": "markdown",
      "metadata": {
        "id": "pCmvJEUrGsXs",
        "colab_type": "text"
      },
      "source": [
        "Now we can set up a loss function over the 5 timesteps of our RNN QAOA optimizer:"
      ]
    },
    {
      "cell_type": "code",
      "metadata": {
        "id": "l7Fp2eOYzsAT",
        "colab_type": "code",
        "colab": {}
      },
      "source": [
        "@tf.function\n",
        "def value_loss(unused, outputs):\n",
        "    return tf.reduce_mean(outputs)\n",
        "\n",
        "# It's important to have a good guess on the last shot of the optimization\n",
        "loss = tf.keras.layers.average([\n",
        "    0.1 * output_0[4], 0.2 * output_1[4], 0.3 * output_2[4],\n",
        "    0.4 * output_3[4], 0.5 * output_4[4]\n",
        "])\n",
        "\n",
        "# Penalize jumping around randomly in the landscape.\n",
        "penalizer = 10 * tf.reduce_sum(\n",
        "    (output_0[3] - output_1[3])**2 + (output_1[3] - output_2[3])**2 +\n",
        "    (output_2[3] - output_3[3])**2 + (output_3[3] - output_4[3])**2,\n",
        "    axis=1)\n",
        "full_loss = loss + penalizer"
      ],
      "execution_count": 0,
      "outputs": []
    },
    {
      "cell_type": "markdown",
      "metadata": {
        "id": "UM-UGe11UPXp",
        "colab_type": "text"
      },
      "source": [
        "Finally we set and train our full Keras model:"
      ]
    },
    {
      "cell_type": "code",
      "metadata": {
        "id": "sykuyNseURcC",
        "colab_type": "code",
        "outputId": "a2a13a04-c69f-413a-8928-f72cc9727dc8",
        "colab": {
          "base_uri": "https://localhost:8080/",
          "height": 765
        }
      },
      "source": [
        "# Can change these to random along with longer tine horizon and greater training\n",
        "# data for more robust test set performance\n",
        "initial_state = np.zeros((N_POINTS, 25)).astype(np.float32)\n",
        "initial_params = np.zeros((N_POINTS, 2)).astype(np.float32)\n",
        "initial_exp = np.zeros((N_POINTS, 25)).astype(np.float32)\n",
        "\n",
        "# Our model will output it's parameter guesses along with the loss value that is\n",
        "# computed over them. This way we can use the model to guess parameters later on\n",
        "model = tf.keras.Model(inputs=[state_inp, params_inp, exp_inp, op_inp, circuit_inp],\n",
        "    outputs=[\n",
        "        output_0[3], output_1[3], output_2[3], output_3[3], output_4[3],\n",
        "        full_loss\n",
        "    ])\n",
        "model.compile(optimizer=tf.keras.optimizers.Adam(learning_rate=0.0001),\n",
        "              loss=value_loss, loss_weights=[0, 0, 0, 0, 0, 1])\n",
        "\n",
        "model.fit(x=[initial_state, initial_params, initial_exp, ops_tensor, circuit_tensor],\n",
        "          y=[\n",
        "              np.zeros((N_POINTS, 1)),\n",
        "              np.zeros((N_POINTS, 1)),\n",
        "              np.zeros((N_POINTS, 1)),\n",
        "              np.zeros((N_POINTS, 1)),\n",
        "              np.zeros((N_POINTS, 1)),\n",
        "              np.zeros((N_POINTS, 1))\n",
        "          ],\n",
        "          epochs=20,\n",
        "          batch_size=64,\n",
        "          verbose=1)"
      ],
      "execution_count": 0,
      "outputs": [
        {
          "output_type": "stream",
          "text": [
            "Train on 500 samples\n",
            "Epoch 1/20\n",
            "WARNING:tensorflow:Gradients do not exist for variables ['qrnn_4/state/kernel:0', 'qrnn_4/state/bias:0'] when minimizing the loss.\n",
            "WARNING:tensorflow:Gradients do not exist for variables ['qrnn_4/state/kernel:0', 'qrnn_4/state/bias:0'] when minimizing the loss.\n",
            "500/500 [==============================] - 9s 18ms/sample - loss: -0.0027 - qrnn_loss: -2.8565e-04 - qrnn_1_loss: -4.5328e-04 - qrnn_2_loss: -5.3460e-04 - qrnn_3_loss: 8.9863e-05 - qrnn_4_loss: 7.5090e-04 - tf_op_layer_add_3_loss: -0.0028\n",
            "Epoch 2/20\n",
            "500/500 [==============================] - 5s 9ms/sample - loss: -0.0311 - qrnn_loss: -0.0015 - qrnn_1_loss: -0.0014 - qrnn_2_loss: -0.0017 - qrnn_3_loss: 1.9811e-04 - qrnn_4_loss: 0.0022 - tf_op_layer_add_3_loss: -0.0317\n",
            "Epoch 3/20\n",
            "500/500 [==============================] - 5s 9ms/sample - loss: -0.1145 - qrnn_loss: -0.0028 - qrnn_1_loss: -0.0030 - qrnn_2_loss: -0.0033 - qrnn_3_loss: 3.4117e-04 - qrnn_4_loss: 0.0045 - tf_op_layer_add_3_loss: -0.1160\n",
            "Epoch 4/20\n",
            "500/500 [==============================] - 5s 9ms/sample - loss: -0.2601 - qrnn_loss: -0.0035 - qrnn_1_loss: -0.0047 - qrnn_2_loss: -0.0047 - qrnn_3_loss: 0.0020 - qrnn_4_loss: 0.0076 - tf_op_layer_add_3_loss: -0.2619\n",
            "Epoch 5/20\n",
            "500/500 [==============================] - 5s 9ms/sample - loss: -0.4265 - qrnn_loss: -0.0033 - qrnn_1_loss: -0.0061 - qrnn_2_loss: -0.0045 - qrnn_3_loss: 0.0052 - qrnn_4_loss: 0.0097 - tf_op_layer_add_3_loss: -0.4284\n",
            "Epoch 6/20\n",
            "500/500 [==============================] - 5s 9ms/sample - loss: -0.5490 - qrnn_loss: -0.0024 - qrnn_1_loss: -0.0063 - qrnn_2_loss: -8.3205e-04 - qrnn_3_loss: 0.0103 - qrnn_4_loss: 0.0125 - tf_op_layer_add_3_loss: -0.5495\n",
            "Epoch 7/20\n",
            "500/500 [==============================] - 5s 10ms/sample - loss: -0.6239 - qrnn_loss: -0.0012 - qrnn_1_loss: -0.0050 - qrnn_2_loss: 0.0048 - qrnn_3_loss: 0.0155 - qrnn_4_loss: 0.0165 - tf_op_layer_add_3_loss: -0.6246\n",
            "Epoch 8/20\n",
            "500/500 [==============================] - 5s 9ms/sample - loss: -0.6823 - qrnn_loss: 1.9863e-04 - qrnn_1_loss: -0.0023 - qrnn_2_loss: 0.0089 - qrnn_3_loss: 0.0174 - qrnn_4_loss: 0.0170 - tf_op_layer_add_3_loss: -0.6829\n",
            "Epoch 9/20\n",
            "500/500 [==============================] - 5s 9ms/sample - loss: -0.7276 - qrnn_loss: 0.0019 - qrnn_1_loss: 7.7907e-04 - qrnn_2_loss: 0.0101 - qrnn_3_loss: 0.0166 - qrnn_4_loss: 0.0176 - tf_op_layer_add_3_loss: -0.7288\n",
            "Epoch 10/20\n",
            "500/500 [==============================] - 5s 9ms/sample - loss: -0.7671 - qrnn_loss: 0.0035 - qrnn_1_loss: 0.0031 - qrnn_2_loss: 0.0085 - qrnn_3_loss: 0.0139 - qrnn_4_loss: 0.0157 - tf_op_layer_add_3_loss: -0.7674\n",
            "Epoch 11/20\n",
            "500/500 [==============================] - 5s 9ms/sample - loss: -0.8006 - qrnn_loss: 0.0047 - qrnn_1_loss: 0.0044 - qrnn_2_loss: 0.0080 - qrnn_3_loss: 0.0133 - qrnn_4_loss: 0.0157 - tf_op_layer_add_3_loss: -0.8013\n",
            "Epoch 12/20\n",
            "500/500 [==============================] - 5s 9ms/sample - loss: -0.8294 - qrnn_loss: 0.0054 - qrnn_1_loss: 0.0052 - qrnn_2_loss: 0.0093 - qrnn_3_loss: 0.0146 - qrnn_4_loss: 0.0162 - tf_op_layer_add_3_loss: -0.8293\n",
            "Epoch 13/20\n",
            "500/500 [==============================] - 5s 9ms/sample - loss: -0.8542 - qrnn_loss: 0.0057 - qrnn_1_loss: 0.0059 - qrnn_2_loss: 0.0109 - qrnn_3_loss: 0.0149 - qrnn_4_loss: 0.0165 - tf_op_layer_add_3_loss: -0.8545\n",
            "Epoch 14/20\n",
            "500/500 [==============================] - 5s 10ms/sample - loss: -0.8765 - qrnn_loss: 0.0056 - qrnn_1_loss: 0.0070 - qrnn_2_loss: 0.0112 - qrnn_3_loss: 0.0152 - qrnn_4_loss: 0.0167 - tf_op_layer_add_3_loss: -0.8764\n",
            "Epoch 15/20\n",
            "500/500 [==============================] - 5s 9ms/sample - loss: -0.8973 - qrnn_loss: 0.0053 - qrnn_1_loss: 0.0080 - qrnn_2_loss: 0.0116 - qrnn_3_loss: 0.0151 - qrnn_4_loss: 0.0167 - tf_op_layer_add_3_loss: -0.8969\n",
            "Epoch 16/20\n",
            "500/500 [==============================] - 5s 9ms/sample - loss: -0.9172 - qrnn_loss: 0.0049 - qrnn_1_loss: 0.0085 - qrnn_2_loss: 0.0121 - qrnn_3_loss: 0.0154 - qrnn_4_loss: 0.0169 - tf_op_layer_add_3_loss: -0.9177\n",
            "Epoch 17/20\n",
            "500/500 [==============================] - 5s 9ms/sample - loss: -0.9365 - qrnn_loss: 0.0044 - qrnn_1_loss: 0.0086 - qrnn_2_loss: 0.0125 - qrnn_3_loss: 0.0156 - qrnn_4_loss: 0.0169 - tf_op_layer_add_3_loss: -0.9363\n",
            "Epoch 18/20\n",
            "500/500 [==============================] - 5s 9ms/sample - loss: -0.9553 - qrnn_loss: 0.0039 - qrnn_1_loss: 0.0085 - qrnn_2_loss: 0.0126 - qrnn_3_loss: 0.0158 - qrnn_4_loss: 0.0170 - tf_op_layer_add_3_loss: -0.9550\n",
            "Epoch 19/20\n",
            "500/500 [==============================] - 5s 9ms/sample - loss: -0.9736 - qrnn_loss: 0.0035 - qrnn_1_loss: 0.0083 - qrnn_2_loss: 0.0124 - qrnn_3_loss: 0.0154 - qrnn_4_loss: 0.0169 - tf_op_layer_add_3_loss: -0.9740\n",
            "Epoch 20/20\n",
            "500/500 [==============================] - 5s 10ms/sample - loss: -0.9914 - qrnn_loss: 0.0031 - qrnn_1_loss: 0.0081 - qrnn_2_loss: 0.0124 - qrnn_3_loss: 0.0156 - qrnn_4_loss: 0.0167 - tf_op_layer_add_3_loss: -0.9921\n"
          ],
          "name": "stdout"
        },
        {
          "output_type": "execute_result",
          "data": {
            "text/plain": [
              "<tensorflow.python.keras.callbacks.History at 0x7fe593a8a048>"
            ]
          },
          "metadata": {
            "tags": []
          },
          "execution_count": 9
        }
      ]
    },
    {
      "cell_type": "markdown",
      "metadata": {
        "id": "gYxwwKM3g4vL",
        "colab_type": "text"
      },
      "source": [
        "(Doing validation data.)"
      ]
    },
    {
      "cell_type": "code",
      "metadata": {
        "id": "ptNh_hPig1zk",
        "colab_type": "code",
        "outputId": "c17b1b58-a4f1-464d-9829-d5c1f5fe4ae6",
        "colab": {
          "base_uri": "https://localhost:8080/",
          "height": 68
        }
      },
      "source": [
        "circuits, parameters, ops = generate_data(10, N_POINTS // 2)\n",
        "\n",
        "circuit_tensor = tfq.convert_to_tensor(circuits)\n",
        "ops_tensor = tfq.convert_to_tensor(ops)\n",
        "\n",
        "initial_state = np.zeros((N_POINTS // 2, 25)).astype(np.float32)\n",
        "initial_guesses = np.zeros((N_POINTS // 2, 2)).astype(np.float32)\n",
        "initial_exp = np.zeros((N_POINTS // 2, 25)).astype(np.float32)\n",
        "\n",
        "out1, out2, out3, out4, out5, _ = model(\n",
        "    [initial_state, initial_guesses, initial_exp, ops_tensor, circuit_tensor])\n",
        "\n",
        "one_vals = tf.reduce_mean(tfq.layers.Expectation()(\n",
        "    circuit_tensor,\n",
        "    symbol_names=parameters,\n",
        "    symbol_values=out1,\n",
        "    operators=ops_tensor)).numpy()\n",
        "two_vals = tf.reduce_mean(tfq.layers.Expectation()(\n",
        "    circuit_tensor,\n",
        "    symbol_names=parameters,\n",
        "    symbol_values=out2,\n",
        "    operators=ops_tensor)).numpy()\n",
        "three_vals = tf.reduce_mean(tfq.layers.Expectation()(\n",
        "    circuit_tensor,\n",
        "    symbol_names=parameters,\n",
        "    symbol_values=out3,\n",
        "    operators=ops_tensor)).numpy()\n",
        "four_vals = tf.reduce_mean(tfq.layers.Expectation()(\n",
        "    circuit_tensor,\n",
        "    symbol_names=parameters,\n",
        "    symbol_values=out4,\n",
        "    operators=ops_tensor)).numpy()\n",
        "five_vals = tf.reduce_mean(tfq.layers.Expectation()(\n",
        "    circuit_tensor,\n",
        "    symbol_names=parameters,\n",
        "    symbol_values=out5,\n",
        "    operators=ops_tensor)).numpy()\n",
        "\n",
        "average_cost_function_values = [\n",
        "    one_vals, two_vals, three_vals, four_vals, five_vals\n",
        "]\n",
        "std_of_param_guess = [\n",
        "    tf.math.reduce_std(out1).numpy(),\n",
        "    tf.math.reduce_std(out2).numpy(),\n",
        "    tf.math.reduce_std(out3).numpy(),\n",
        "    tf.math.reduce_std(out4).numpy(),\n",
        "    tf.math.reduce_std(out5).numpy()\n",
        "]\n",
        "\n",
        "print('-' * 80)\n",
        "print('Average cost function values for each guess number across unseen instances:',\n",
        "      average_cost_function_values)\n",
        "print('Variance of parameter values guessed:', std_of_param_guess)"
      ],
      "execution_count": 0,
      "outputs": [
        {
          "output_type": "stream",
          "text": [
            "--------------------------------------------------------------------------------\n",
            "Average cost function values for each guess number across unseen instances: [-0.93607825, -3.0742426, -4.011084, -4.235294, -4.2729025]\n",
            "Variance of parameter values guessed: [0.06207718, 0.13089399, 0.17260134, 0.19353636, 0.20162843]\n"
          ],
          "name": "stdout"
        }
      ]
    },
    {
      "cell_type": "markdown",
      "metadata": {
        "id": "cvs5E__KhEHu",
        "colab_type": "text"
      },
      "source": [
        "Explore a singular instances. Now this instance is on 12 qubits and not just 10."
      ]
    },
    {
      "cell_type": "code",
      "metadata": {
        "id": "rWMazq46hBB6",
        "colab_type": "code",
        "outputId": "cf3eb795-04e1-4507-d18b-6b7a229db4cf",
        "colab": {
          "base_uri": "https://localhost:8080/",
          "height": 319
        }
      },
      "source": [
        "test_graph_circuit, parameters, test_graph_op = generate_data(12, 1)\n",
        "\n",
        "test_graph_circuit = test_graph_circuit[0]\n",
        "test_graph_op = test_graph_op[0][0]\n",
        "\n",
        "resolution = 100\n",
        "input_vals = []\n",
        "for i, a in enumerate(np.linspace(-0.5, .5, resolution)):\n",
        "    for j, b in enumerate(np.linspace(-0.5, .5, resolution)):\n",
        "        input_vals.append([a, b])\n",
        "\n",
        "cost_vals = tfq.layers.Expectation()(test_graph_circuit,\n",
        "                                     symbol_names=parameters,\n",
        "                                     symbol_values=np.array(input_vals),\n",
        "                                     operators=test_graph_op).numpy()\n",
        "\n",
        "output_vals = np.empty((resolution, resolution))\n",
        "for i, a in enumerate(np.linspace(-0.5, 0.5, resolution)):\n",
        "    for j, b in enumerate(np.linspace(-0.5, 0.5, resolution)):\n",
        "        output_vals[i][j] = cost_vals[i * resolution + j]\n",
        "\n",
        "import matplotlib.pyplot as plt\n",
        "\n",
        "plt.imshow(output_vals)\n",
        "\n",
        "guess_0, guess_1, guess_2, guess_3, guess_4, _ = model([\n",
        "    np.zeros((1, 25)).astype(np.float32),\n",
        "    np.zeros((1, 2)).astype(np.float32),\n",
        "    np.zeros((1, 25)).astype(np.float32),\n",
        "    tfq.convert_to_tensor([[test_graph_op]]),\n",
        "    tfq.convert_to_tensor([test_graph_circuit]),    \n",
        "])\n",
        "all_guesses = [guess_0, guess_1, guess_2, guess_3, guess_4]\n",
        "all_guesses = [list(a.numpy()[0]) for a in all_guesses]\n",
        "\n",
        "\n",
        "# This should be cleaned up...\n",
        "def f(x):\n",
        "    sim = cirq.Simulator()\n",
        "    final_state = sim.simulate(test_graph_circuit, {\n",
        "        parameters[0]: x[0],\n",
        "        parameters[1]: x[1]\n",
        "    }).final_state\n",
        "    q = sorted(list(test_graph_circuit.all_qubits()))\n",
        "    res = test_graph_op.expectation_from_wavefunction(\n",
        "        final_state, qubit_map={h: i for i, h in enumerate(q)}).real\n",
        "    return res\n",
        "\n",
        "\n",
        "all_costs = [f(a) for a in all_guesses]\n",
        "\n",
        "plt.plot((np.array(all_guesses)[:, 0] + 0.5) * resolution,\n",
        "         (np.array(all_guesses)[:, 1] + 0.5) * resolution,\n",
        "         c='r',\n",
        "         linestyle='--',\n",
        "         markevery=[4],\n",
        "         marker='*',\n",
        "         markersize=20,\n",
        "         linewidth=3.5)\n",
        "plt.show()\n",
        "\n",
        "print('All guesses for test graph:', all_guesses)\n",
        "print('Cost function values for test graph:', all_costs)\n",
        "print('-' * 80)"
      ],
      "execution_count": 0,
      "outputs": [
        {
          "output_type": "display_data",
          "data": {
            "image/png": "[encoded data removed]",
            "text/plain": [
              "<Figure size 432x288 with 1 Axes>"
            ]
          },
          "metadata": {
            "tags": []
          }
        },
        {
          "output_type": "stream",
          "text": [
            "All guesses for test graph: [[-0.05920046, 0.06495389], [-0.12289892, 0.138889], [-0.1600413, 0.18516134], [-0.17817873, 0.20889395], [-0.18445928, 0.21879752]]\n",
            "Cost function values for test graph: [-1.2702649869024754, -3.7216290906071663, -4.45371687412262, -4.50318269431591, -4.4711898267269135]\n",
            "--------------------------------------------------------------------------------\n"
          ],
          "name": "stdout"
        }
      ]
    },
    {
      "cell_type": "markdown",
      "metadata": {
        "id": "__ae8ksZdTkb",
        "colab_type": "text"
      },
      "source": [
        "As we can see from the above visual the RNN immediately begins guessing near the basin of attraction and continues to explore around the region looking to improve the estimate. Note the values in `all_costs` decreasing."
      ]
    }
  ]
}