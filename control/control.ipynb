{
  "nbformat": 4,
  "nbformat_minor": 0,
  "metadata": {
    "colab": {
      "name": "TFQ_Example_DNN_LSTM_Qcontrol_application.ipynb",
      "provenance": [],
      "collapsed_sections": []
    },
    "kernelspec": {
      "name": "python3",
      "display_name": "Python 3"
    }
  },
  "cells": [
    {
      "cell_type": "markdown",
      "metadata": {
        "id": "f0_gMI4Blbe8",
        "colab_type": "text"
      },
      "source": [
        "##### Copyright 2020 The TensorFlow Quantum Authors."
      ]
    },
    {
      "cell_type": "code",
      "metadata": {
        "id": "bogCr-sSkXM1",
        "colab_type": "code",
        "colab": {}
      },
      "source": [
        "#@title Licensed under the Apache License, Version 2.0 (the \"License\");\n",
        "# you may not use this file except in compliance with the License.\n",
        "# You may obtain a copy of the License at\n",
        "#\n",
        "# https://www.apache.org/licenses/LICENSE-2.0\n",
        "#\n",
        "# Unless required by applicable law or agreed to in writing, software\n",
        "# distributed under the License is distributed on an \"AS IS\" BASIS,\n",
        "# WITHOUT WARRANTIES OR CONDITIONS OF ANY KIND, either express or implied.\n",
        "# See the License for the specific language governing permissions and\n",
        "# limitations under the License."
      ],
      "execution_count": 0,
      "outputs": []
    },
    {
      "cell_type": "markdown",
      "metadata": {
        "id": "wppQ3TJ23mWC",
        "colab_type": "text"
      },
      "source": [
        "# A Hybrid Quantum-Classical Optimization for Quantum Control Optimization\n",
        "\n",
        "\n",
        "Now that the basics are understood, let's show how one might use TFQ to construct a **hybrid quantum-classical neural net** for quantum control. \n",
        "\n",
        "\n",
        "In the frist problem, we train a classical deep neural net to control a single qubit for realizing an arbitrary unitary; the output of the classical neural network determines the parameters of the quantum circuit to be applied to the qubit, which is then measured to produce the expectation values of different measurement operators.\n",
        "\n",
        "In the second problem, we train a recurrent neural network, to learn to predict the future quantum dynamics based on past obervations of a noisy implementation of quantum circuit.\n",
        "\n"
      ]
    },
    {
      "cell_type": "markdown",
      "metadata": {
        "id": "ngDCx3sUlmlA",
        "colab_type": "text"
      },
      "source": [
        "[![Open In Colab](https://colab.research.google.com/assets/colab-badge.svg)](https://colab.research.google.com/github/tensorflow/quantum/blob/research/control/control.ipynb)"
      ]
    },
    {
      "cell_type": "markdown",
      "metadata": {
        "id": "AJa9sPPckfqS",
        "colab_type": "text"
      },
      "source": [
        "## Installation and imports"
      ]
    },
    {
      "cell_type": "code",
      "metadata": {
        "id": "1eVDbG_2ZhMe",
        "colab_type": "code",
        "colab": {}
      },
      "source": [
        "!pip install --upgrade cirq==0.7.0"
      ],
      "execution_count": 0,
      "outputs": []
    },
    {
      "cell_type": "code",
      "metadata": {
        "id": "rFqxhKypZoSJ",
        "colab_type": "code",
        "colab": {}
      },
      "source": [
        "!pip install --upgrade tensorflow==2.1.0"
      ],
      "execution_count": 0,
      "outputs": []
    },
    {
      "cell_type": "code",
      "metadata": {
        "id": "xcDb1zbSdXKi",
        "colab_type": "code",
        "colab": {}
      },
      "source": [
        "!pip install tfq-nightly"
      ],
      "execution_count": 0,
      "outputs": []
    },
    {
      "cell_type": "code",
      "metadata": {
        "id": "enZ300Bflq80",
        "colab_type": "code",
        "colab": {}
      },
      "source": [
        "import tensorflow as tf\n",
        "import tensorflow_quantum as tfq\n",
        "import cirq\n",
        "import sympy\n",
        "import cmath\n",
        "import numpy as np\n",
        "from scipy import linalg\n",
        "\n",
        "# visualization tools\n",
        "%matplotlib inline\n",
        "import matplotlib.pyplot as plt\n",
        "from cirq.contrib.svg import SVGCircuit"
      ],
      "execution_count": 0,
      "outputs": []
    },
    {
      "cell_type": "markdown",
      "metadata": {
        "id": "8J6c2-DVXQdr",
        "colab_type": "text"
      },
      "source": [
        "## Problem 1: Gate decomposition with DNN."
      ]
    },
    {
      "cell_type": "markdown",
      "metadata": {
        "id": "wzfSYDfAcJTB",
        "colab_type": "text"
      },
      "source": [
        "### 1.1 Problem definition.\n",
        "\n",
        "More specifically, we provide an example of training a classical neural network to learn the Bloch Theorem: any single qubit unitary transformation can be realized by three single qubit rotations around two different angles.\n",
        "\n",
        "\n",
        "Given the specification of the single qubit unitary in regard to three parameters $\\phi, \\theta_1, \\theta_2$ that specifies the block sphere as the input to the classical neural network: the neural network will output rotation angles along two different axis ( $Ry$, and $Rz$) that realizes the given rotation. If we include a penalty term on the number of non-zero rotations, the training of a classical neural network should be able to find the most optimal.\n",
        "\n",
        "<img src=\"https://i.imgur.com/LX134rt.png\" width=\"1000\">\n",
        "\n",
        "This idealized version of a real quantum control problem where a classical neural network is learning a physical law of optimal decomposition of single-qubit unitaries."
      ]
    },
    {
      "cell_type": "markdown",
      "metadata": {
        "id": "P2TQJMt1HOhF",
        "colab_type": "text"
      },
      "source": [
        "Up to a global phase, an arbitrary single-qubit unitary can be specified in terms of three angles $\\phi$, $\\theta_1$, and $\\theta_2$ as $U=\\exp(-i \\phi (\\cos(\\theta_1)Z + \\sin(\\theta_1)(\\cos(\\theta_2)X + \\sin(\\theta_2)Y))$.\n",
        "\n",
        "It is possible to realize an arbitrary unitary of this form using three rotations about only two axes, $U = R_z(\\beta)R_y(\\gamma)R_z(\\delta)$.  There exists an analytic solution mapping $\\{\\phi, \\theta_1, \\theta_2\\}$ to $\\{\\beta, \\gamma, \\delta\\}$; however, for more sophisticated control problems, such an analytic mapping may not be available.  Therefore we investigate training neural networks to perform the control.  First we consider training a purely classical neural network to perform the mapping from unitary parameters to rotation angles.  Then, we consider training a hybrid quantum-classical network directly on expectation value data.\n",
        "\n",
        "First, we define the map from $\\{\\phi, \\theta_1, \\theta_2\\}$ to the associated unitary:"
      ]
    },
    {
      "cell_type": "code",
      "metadata": {
        "id": "PU_dl3iPVylT",
        "colab_type": "code",
        "colab": {}
      },
      "source": [
        "def get_unitary_from_params(phi, theta_1, theta_2):\n",
        "  return linalg.expm(-1j*phi*(\n",
        "      np.cos(theta_1)*cirq.Z._unitary_()\n",
        "      + np.sin(theta_1)*(\n",
        "          np.cos(theta_2)*cirq.X._unitary_()\n",
        "          + np.sin(theta_2)*cirq.Y._unitary_()\n",
        "      )\n",
        "  ))"
      ],
      "execution_count": 0,
      "outputs": []
    },
    {
      "cell_type": "markdown",
      "metadata": {
        "id": "HjQXFVuM4Kim",
        "colab_type": "text"
      },
      "source": [
        "### 1.2 Physics model construction\n",
        "\n",
        "#### Following lines are analytic solution to the Bloch theorem, where batch input is the input to a unitary parameterized by $U=\\exp(-i \\phi (cos(\\theta_1)Z + \\sin(\\theta_1)(\\cos(\\theta_2)X + \\sin(\\theta_2)Y))$, the output is the angle $\\beta, \\gamma, \\delta$ for the Z Y Z rotations that realizes the target unitary."
      ]
    },
    {
      "cell_type": "markdown",
      "metadata": {
        "id": "6sJ7NKALZ8oJ",
        "colab_type": "text"
      },
      "source": [
        "Next, we write down the known mapping between the angles $\\{\\phi, \\theta_1, \\theta_2\\}$ and the two-axis control angles $\\{\\beta, \\gamma, \\delta\\}$."
      ]
    },
    {
      "cell_type": "code",
      "metadata": {
        "id": "gPQkoK93HTFx",
        "colab_type": "code",
        "colab": {}
      },
      "source": [
        "def map_unitary_params(phi, theta_1, theta_2):\n",
        "  \"\"\"Convert unitary angles into two-axis control angles.\"\"\"\n",
        "  #### Below works ONLY when all input angles are less than pi\n",
        "\n",
        "  gamma = -2*np.arccos(-np.sqrt(3 + np.cos(2 * theta_1)  + 2 * np.sin(theta_1) ** 2 * np.cos(phi* 2) )/2.0)\n",
        "\n",
        "  delta = 2*np.real(-  1j * np.log(-(-1.0) ** (1/4) *np.sqrt(- np.exp(1j * phi) * (-1 + np.exp(2 * 1j * phi))   * \n",
        "                                                              np.sqrt(3 + np.cos(2 * theta_1)  + 2 * np.sin(theta_1) ** 2 * np.cos(phi* 2) )) /\n",
        "                                      2 / np.sqrt(-np.exp(1j * ( 2 *phi+ theta_2)) * np.sin(phi) ** 2 \n",
        "                                                  * (np.cos(theta_1) + 1j / np.tan(phi))) ))\n",
        "\n",
        "  beta = 2*np.real(-  1j * np.log(- np.exp(1j * ( phi+ theta_2)) * \n",
        "                                      np.sqrt(-1j * np.exp(1j * phi)*(-1 + np.exp(2 * 1j * phi))\n",
        "                                      *np.sqrt(3 + np.cos(2 * theta_1)  + 2 * np.sin(theta_1) ** 2 * np.cos(phi* 2) ))\n",
        "                                      * np.sin(phi)/(-1 + np.exp(2 * 1j * phi)) /\n",
        "                                      np.sqrt(- np.exp(1j * (2 * phi+ theta_2)) * np.sin(phi) *( np.sin(phi) * np.cos(theta_1) + 1j * np.cos(phi) )) ))\n",
        "\n",
        "  return beta, gamma, delta"
      ],
      "execution_count": 0,
      "outputs": []
    },
    {
      "cell_type": "markdown",
      "metadata": {
        "id": "zh0vypmLpLWe",
        "colab_type": "text"
      },
      "source": [
        "Build a function to generate training data:"
      ]
    },
    {
      "cell_type": "code",
      "metadata": {
        "id": "PPxwDSubpOcm",
        "colab_type": "code",
        "colab": {}
      },
      "source": [
        "def get_angles_training_data(batch_size):\n",
        "    data = []\n",
        "    labels = []\n",
        "    for _ in range(batch_size):\n",
        "      random_unitary_params = np.random.uniform(0,  np.pi, (3)).tolist()\n",
        "      beta, gamma, delta = map_unitary_params(*random_unitary_params)\n",
        "      data.append(random_unitary_params)\n",
        "      labels.append([beta, gamma, delta])\n",
        "    return data, labels"
      ],
      "execution_count": 0,
      "outputs": []
    },
    {
      "cell_type": "markdown",
      "metadata": {
        "id": "6KnTDJ138e5m",
        "colab_type": "text"
      },
      "source": [
        "Using this function, set up the training and validation data:"
      ]
    },
    {
      "cell_type": "code",
      "metadata": {
        "id": "unUaBFTo8hRi",
        "colab_type": "code",
        "colab": {}
      },
      "source": [
        " \n",
        "\n",
        "train_size = 10000\n",
        "validation_size = 10000\n",
        "all_commands, all_expectations = get_expectation_training_data(train_size + validation_size)\n",
        "\n",
        "commands_train = all_commands[:train_size]\n",
        "expectations_train = all_expectations[:train_size]\n",
        "commands_val = all_commands[-validation_size:]\n",
        "expectations_val = all_expectations[-validation_size:]"
      ],
      "execution_count": 0,
      "outputs": []
    },
    {
      "cell_type": "markdown",
      "metadata": {
        "id": "zkcRVIXTjLx1",
        "colab_type": "text"
      },
      "source": [
        "Run a test to confirm that all training data is correct.  We do this by checking the Hilbert-Schmidt inner product $\\langle U_i, U_o\\rangle = \\text{Tr}\\left(U_o^\\dagger U_i\\right)$ between the two resulting matrices:"
      ]
    },
    {
      "cell_type": "code",
      "metadata": {
        "id": "TYJ8MHPLjLU8",
        "colab_type": "code",
        "colab": {}
      },
      "source": [
        "for data_angles, label_angles in zip(commands_train, all_expectations):\n",
        "  test_phi, test_theta_1, test_theta_2 = data_angles\n",
        "  beta = label_angles[0]\n",
        "  gamma = label_angles[1]\n",
        "  delta = label_angles[2]\n",
        "  u_i = get_unitary_from_params(test_phi, test_theta_1, test_theta_2)\n",
        "  u_o = np.matmul(cirq.Rz(beta)._unitary_(),\n",
        "      np.matmul(cirq.Ry(gamma)._unitary_(), cirq.Rz(delta)._unitary_()))\n",
        "  \n",
        "  circuit = cirq.Circuit(cirq.Rz(delta)(q), cirq.Ry(   gamma)(q), cirq.Rz(beta)(q))\n",
        " \n",
        "  check1= np.trace(np.matmul(u_o.conj().T, circuit.unitary())) ** 2 / 4.0\n",
        "\n",
        "  check = np.trace(np.matmul(u_o.conj().T, u_i))** 2 / 4.0\n",
        " \n",
        "\n",
        "  if (abs(abs(check) - 1) > 1e-5) and (abs(abs(check1) - 1) > 1e-5):\n",
        "    print(\"Inner product value:\")\n",
        "    print(check)\n",
        "    print(\"Input angles quadrant check:\")\n",
        "    print([int(test_phi>np.pi), int(test_theta_1>np.pi), int(test_theta_2>np.pi)])"
      ],
      "execution_count": 0,
      "outputs": []
    },
    {
      "cell_type": "markdown",
      "metadata": {
        "id": "iV85ahKKCuQw",
        "colab_type": "text"
      },
      "source": [
        "### 1.3 Prepare the training data set based on input and expectation values."
      ]
    },
    {
      "cell_type": "code",
      "metadata": {
        "id": "BFIbFhOgalLe",
        "colab_type": "code",
        "colab": {}
      },
      "source": [
        "def get_expectation_training_data(batch_size):\n",
        "    q = cirq.GridQubit(0, 0)\n",
        "    beta_s, gamma_s, delta_s = sympy.symbols(\"beta gamma delta\")\n",
        "    circuit = cirq.Circuit(cirq.Rz(delta_s)(q), cirq.Ry(gamma_s)(q), cirq.Rz(beta_s)(q))\n",
        "    ops = [cirq.X(q), cirq.Y(q), cirq.Z(q)]\n",
        "\n",
        "    params = []\n",
        "    outputs = []\n",
        "    for _ in range(batch_size):\n",
        "      random_unitary_params = np.random.uniform(0,  np.pi, (3)).tolist()\n",
        "      beta, gamma, delta = map_unitary_params(*random_unitary_params)\n",
        "      expectations = tfq.layers.Expectation()(\n",
        "          circuit,\n",
        "          symbol_names=[beta_s, gamma_s, delta_s],\n",
        "          symbol_values=[[beta, gamma, delta]],\n",
        "          operators=ops \n",
        "      ).numpy().tolist()[0]\n",
        "      params.append(random_unitary_params)\n",
        "      outputs.append(expectations)\n",
        "    return params, outputs"
      ],
      "execution_count": 0,
      "outputs": []
    },
    {
      "cell_type": "markdown",
      "metadata": {
        "id": "8OLc2MB-jOuD",
        "colab_type": "text"
      },
      "source": [
        "We now define the hybrid network that will be trained to perform the qubit control.  Note that we restrict the gate set of the quantum portion of the net to alternating $R_z$ and $R_y$ gates.  By adding a term to the loss that induces sparsity on the controls of these gates, the hope is that the hybrid network will learn the optimal two-axis control (which requires only three angles)."
      ]
    },
    {
      "cell_type": "markdown",
      "metadata": {
        "id": "wUG8Hct01KUg",
        "colab_type": "text"
      },
      "source": [
        "### 1.4 Build a quantum-classical hybrid neural network to control the rotations."
      ]
    },
    {
      "cell_type": "code",
      "metadata": {
        "id": "YEwrVek41MZZ",
        "colab_type": "code",
        "colab": {}
      },
      "source": [
        "def loss(y_true,y_pred ):\n",
        "    return -tf.math.log(tf.reduce_mean(tf.square(y_pred - y_true), axis=-1)) #+ 0.1 * tf.reduce_sum(tf.square(tf.math.tanh(dense_3)), axis=-1)\n",
        "\n",
        "circuits_input = tf.keras.Input(shape=(), dtype=tf.dtypes.string, name='circuits_input')\n",
        "commands_input = tf.keras.Input((3,), name='commands_input')\n",
        "dense_layer_1 = tf.keras.layers.Dense(128, activation='relu', name='dense_layer_1')(commands_input)\n",
        "dense_layer_2 = tf.keras.layers.Dense(128, name='dense_layer_2')(dense_layer_1)\n",
        "dense_layer_3 = tf.keras.layers.Dense(64, activation='relu', name='dense_layer_3')(dense_layer_2) \n",
        "angles_layer = tf.keras.layers.Dense(3,  activation='linear', name='angles_layer')(dense_layer_3)\n",
        "\n",
        "measured_expectations = tfq.layers.ControlledPQC(\n",
        "    two_axis_control_circuit, measure_list)([circuits_input, angles_layer])\n",
        "two_axis_control_model = tf.keras.Model(inputs=[circuits_input, commands_input], outputs=measured_expectations)"
      ],
      "execution_count": 0,
      "outputs": []
    },
    {
      "cell_type": "markdown",
      "metadata": {
        "id": "dL0wVKys4kYw",
        "colab_type": "text"
      },
      "source": [
        "Set up data"
      ]
    },
    {
      "cell_type": "code",
      "metadata": {
        "id": "mRqW1lmkYEMA",
        "colab_type": "code",
        "colab": {}
      },
      "source": [
        "train_size = 10000\n",
        "validation_size = 10000\n",
        "all_commands, all_expectations = get_expectation_training_data(train_size + validation_size)\n",
        "\n",
        "commands_train = all_commands[:train_size]\n",
        "expectations_train = all_expectations[:train_size]\n",
        "commands_val = all_commands[-validation_size:]\n",
        "expectations_val = all_expectations[-validation_size:]"
      ],
      "execution_count": 0,
      "outputs": []
    },
    {
      "cell_type": "markdown",
      "metadata": {
        "id": "ziAd64oNYH3D",
        "colab_type": "text"
      },
      "source": [
        "Perform optimization"
      ]
    },
    {
      "cell_type": "code",
      "metadata": {
        "id": "Ig-95OfT2AYG",
        "colab_type": "code",
        "outputId": "4f717bdc-73a3-41c3-9846-139d915f2ece",
        "colab": {
          "base_uri": "https://localhost:8080/",
          "height": 1000
        }
      },
      "source": [
        "epochs = 200\n",
        "batch_size = 1000\n",
        "lr=0.010 \n",
        "\n",
        "two_axis_control_model.compile(tf.keras.optimizers.Adam(learning_rate=lr, decay=lr / epochs), \n",
        "              loss='mse')\n",
        "history_two_axis = two_axis_control_model.fit(\n",
        "    x=[tfq.convert_to_tensor([cirq.Circuit()]*train_size), tf.convert_to_tensor(commands_train)],\n",
        "    y=tf.convert_to_tensor(expectations_train), batch_size=batch_size, epochs=epochs,\n",
        "    validation_data=(\n",
        "        [tfq.convert_to_tensor([cirq.Circuit()]*validation_size), tf.convert_to_tensor(commands_val)],\n",
        "                               tf.convert_to_tensor(expectations_val)))"
      ],
      "execution_count": 0,
      "outputs": [
        {
          "output_type": "stream",
          "text": [
            "Train on 10000 samples, validate on 10000 samples\n",
            "Epoch 1/200\n",
            "10000/10000 [==============================] - 3s 347us/sample - loss: 0.3856 - val_loss: 0.3154\n",
            "Epoch 2/200\n",
            "10000/10000 [==============================] - 3s 256us/sample - loss: 0.2913 - val_loss: 0.2889\n",
            "Epoch 3/200\n",
            "10000/10000 [==============================] - 3s 260us/sample - loss: 0.2715 - val_loss: 0.2741\n",
            "Epoch 4/200\n",
            "10000/10000 [==============================] - 3s 264us/sample - loss: 0.2600 - val_loss: 0.2636\n",
            "Epoch 5/200\n",
            "10000/10000 [==============================] - 3s 264us/sample - loss: 0.2463 - val_loss: 0.2428\n",
            "Epoch 6/200\n",
            "10000/10000 [==============================] - 3s 267us/sample - loss: 0.2178 - val_loss: 0.2018\n",
            "Epoch 7/200\n",
            "10000/10000 [==============================] - 3s 268us/sample - loss: 0.1782 - val_loss: 0.1624\n",
            "Epoch 8/200\n",
            "10000/10000 [==============================] - 3s 264us/sample - loss: 0.1456 - val_loss: 0.1490\n",
            "Epoch 9/200\n",
            "10000/10000 [==============================] - 3s 258us/sample - loss: 0.1142 - val_loss: 0.0980\n",
            "Epoch 10/200\n",
            "10000/10000 [==============================] - 3s 265us/sample - loss: 0.0842 - val_loss: 0.0779\n",
            "Epoch 11/200\n",
            "10000/10000 [==============================] - 3s 262us/sample - loss: 0.0790 - val_loss: 0.0871\n",
            "Epoch 12/200\n",
            "10000/10000 [==============================] - 3s 252us/sample - loss: 0.0759 - val_loss: 0.0723\n",
            "Epoch 13/200\n",
            "10000/10000 [==============================] - 3s 271us/sample - loss: 0.0640 - val_loss: 0.0567\n",
            "Epoch 14/200\n",
            "10000/10000 [==============================] - 3s 261us/sample - loss: 0.0513 - val_loss: 0.0473\n",
            "Epoch 15/200\n",
            "10000/10000 [==============================] - 3s 270us/sample - loss: 0.0431 - val_loss: 0.0437\n",
            "Epoch 16/200\n",
            "10000/10000 [==============================] - 3s 265us/sample - loss: 0.0395 - val_loss: 0.0405\n",
            "Epoch 17/200\n",
            "10000/10000 [==============================] - 3s 258us/sample - loss: 0.0422 - val_loss: 0.0439\n",
            "Epoch 18/200\n",
            "10000/10000 [==============================] - 3s 265us/sample - loss: 0.0414 - val_loss: 0.0383\n",
            "Epoch 19/200\n",
            "10000/10000 [==============================] - 3s 267us/sample - loss: 0.0382 - val_loss: 0.0395\n",
            "Epoch 20/200\n",
            "10000/10000 [==============================] - 3s 269us/sample - loss: 0.0377 - val_loss: 0.0372\n",
            "Epoch 21/200\n",
            "10000/10000 [==============================] - 3s 264us/sample - loss: 0.0373 - val_loss: 0.0561\n",
            "Epoch 22/200\n",
            "10000/10000 [==============================] - 3s 267us/sample - loss: 0.0429 - val_loss: 0.0376\n",
            "Epoch 23/200\n",
            "10000/10000 [==============================] - 3s 277us/sample - loss: 0.0328 - val_loss: 0.0335\n",
            "Epoch 24/200\n",
            "10000/10000 [==============================] - 3s 264us/sample - loss: 0.0314 - val_loss: 0.0362\n",
            "Epoch 25/200\n",
            "10000/10000 [==============================] - 3s 259us/sample - loss: 0.0300 - val_loss: 0.0317\n",
            "Epoch 26/200\n",
            "10000/10000 [==============================] - 3s 273us/sample - loss: 0.0278 - val_loss: 0.0287\n",
            "Epoch 27/200\n",
            "10000/10000 [==============================] - 3s 274us/sample - loss: 0.0270 - val_loss: 0.0264\n",
            "Epoch 28/200\n",
            "10000/10000 [==============================] - 3s 268us/sample - loss: 0.0272 - val_loss: 0.0296\n",
            "Epoch 29/200\n",
            "10000/10000 [==============================] - 3s 275us/sample - loss: 0.0347 - val_loss: 0.0337\n",
            "Epoch 30/200\n",
            "10000/10000 [==============================] - 3s 273us/sample - loss: 0.0318 - val_loss: 0.0343\n",
            "Epoch 31/200\n",
            "10000/10000 [==============================] - 3s 262us/sample - loss: 0.0313 - val_loss: 0.0316\n",
            "Epoch 32/200\n",
            "10000/10000 [==============================] - 3s 259us/sample - loss: 0.0502 - val_loss: 0.0332\n",
            "Epoch 33/200\n",
            "10000/10000 [==============================] - 3s 265us/sample - loss: 0.0376 - val_loss: 0.0328\n",
            "Epoch 34/200\n",
            "10000/10000 [==============================] - 3s 260us/sample - loss: 0.0299 - val_loss: 0.0225\n",
            "Epoch 35/200\n",
            "10000/10000 [==============================] - 3s 265us/sample - loss: 0.0240 - val_loss: 0.0249\n",
            "Epoch 36/200\n",
            "10000/10000 [==============================] - 3s 267us/sample - loss: 0.0212 - val_loss: 0.0205\n",
            "Epoch 37/200\n",
            "10000/10000 [==============================] - 3s 261us/sample - loss: 0.0198 - val_loss: 0.0208\n",
            "Epoch 38/200\n",
            "10000/10000 [==============================] - 3s 268us/sample - loss: 0.0184 - val_loss: 0.0202\n",
            "Epoch 39/200\n",
            "10000/10000 [==============================] - 3s 261us/sample - loss: 0.0176 - val_loss: 0.0185\n",
            "Epoch 40/200\n",
            "10000/10000 [==============================] - 3s 254us/sample - loss: 0.0204 - val_loss: 0.0200\n",
            "Epoch 41/200\n",
            "10000/10000 [==============================] - 3s 274us/sample - loss: 0.0216 - val_loss: 0.0228\n",
            "Epoch 42/200\n",
            "10000/10000 [==============================] - 3s 274us/sample - loss: 0.0198 - val_loss: 0.0201\n",
            "Epoch 43/200\n",
            "10000/10000 [==============================] - 3s 266us/sample - loss: 0.0181 - val_loss: 0.0193\n",
            "Epoch 44/200\n",
            "10000/10000 [==============================] - 3s 267us/sample - loss: 0.0199 - val_loss: 0.0724\n",
            "Epoch 45/200\n",
            "10000/10000 [==============================] - 3s 267us/sample - loss: 0.0506 - val_loss: 0.0326\n",
            "Epoch 46/200\n",
            "10000/10000 [==============================] - 3s 269us/sample - loss: 0.0280 - val_loss: 0.0246\n",
            "Epoch 47/200\n",
            "10000/10000 [==============================] - 3s 265us/sample - loss: 0.0208 - val_loss: 0.0217\n",
            "Epoch 48/200\n",
            "10000/10000 [==============================] - 3s 275us/sample - loss: 0.0182 - val_loss: 0.0188\n",
            "Epoch 49/200\n",
            "10000/10000 [==============================] - 3s 285us/sample - loss: 0.0168 - val_loss: 0.0173\n",
            "Epoch 50/200\n",
            "10000/10000 [==============================] - 3s 274us/sample - loss: 0.0167 - val_loss: 0.0176\n",
            "Epoch 51/200\n",
            "10000/10000 [==============================] - 3s 267us/sample - loss: 0.0170 - val_loss: 0.0169\n",
            "Epoch 52/200\n",
            "10000/10000 [==============================] - 3s 272us/sample - loss: 0.0185 - val_loss: 0.0185\n",
            "Epoch 53/200\n",
            "10000/10000 [==============================] - 3s 267us/sample - loss: 0.0177 - val_loss: 0.0172\n",
            "Epoch 54/200\n",
            "10000/10000 [==============================] - 3s 255us/sample - loss: 0.0170 - val_loss: 0.0177\n",
            "Epoch 55/200\n",
            "10000/10000 [==============================] - 3s 273us/sample - loss: 0.0165 - val_loss: 0.0148\n",
            "Epoch 56/200\n",
            "10000/10000 [==============================] - 3s 280us/sample - loss: 0.0142 - val_loss: 0.0155\n",
            "Epoch 57/200\n",
            "10000/10000 [==============================] - 3s 275us/sample - loss: 0.0154 - val_loss: 0.0159\n",
            "Epoch 58/200\n",
            "10000/10000 [==============================] - 3s 268us/sample - loss: 0.0144 - val_loss: 0.0149\n",
            "Epoch 59/200\n",
            "10000/10000 [==============================] - 3s 269us/sample - loss: 0.0141 - val_loss: 0.0153\n",
            "Epoch 60/200\n",
            "10000/10000 [==============================] - 3s 264us/sample - loss: 0.0143 - val_loss: 0.0153\n",
            "Epoch 61/200\n",
            "10000/10000 [==============================] - 3s 259us/sample - loss: 0.0156 - val_loss: 0.0205\n",
            "Epoch 62/200\n",
            "10000/10000 [==============================] - 3s 255us/sample - loss: 0.0155 - val_loss: 0.0191\n",
            "Epoch 63/200\n",
            "10000/10000 [==============================] - 3s 264us/sample - loss: 0.0175 - val_loss: 0.0148\n",
            "Epoch 64/200\n",
            "10000/10000 [==============================] - 3s 272us/sample - loss: 0.0156 - val_loss: 0.0145\n",
            "Epoch 65/200\n",
            "10000/10000 [==============================] - 3s 275us/sample - loss: 0.0132 - val_loss: 0.0136\n",
            "Epoch 66/200\n",
            "10000/10000 [==============================] - 3s 267us/sample - loss: 0.0131 - val_loss: 0.0142\n",
            "Epoch 67/200\n",
            "10000/10000 [==============================] - 3s 273us/sample - loss: 0.0128 - val_loss: 0.0132\n",
            "Epoch 68/200\n",
            "10000/10000 [==============================] - 3s 269us/sample - loss: 0.0128 - val_loss: 0.0152\n",
            "Epoch 69/200\n",
            "10000/10000 [==============================] - 3s 264us/sample - loss: 0.0128 - val_loss: 0.0131\n",
            "Epoch 70/200\n",
            "10000/10000 [==============================] - 3s 255us/sample - loss: 0.0125 - val_loss: 0.0120\n",
            "Epoch 71/200\n",
            "10000/10000 [==============================] - 3s 276us/sample - loss: 0.0119 - val_loss: 0.0134\n",
            "Epoch 72/200\n",
            "10000/10000 [==============================] - 3s 275us/sample - loss: 0.0129 - val_loss: 0.0141\n",
            "Epoch 73/200\n",
            "10000/10000 [==============================] - 3s 279us/sample - loss: 0.0144 - val_loss: 0.0148\n",
            "Epoch 74/200\n",
            "10000/10000 [==============================] - 3s 274us/sample - loss: 0.0143 - val_loss: 0.0142\n",
            "Epoch 75/200\n",
            "10000/10000 [==============================] - 3s 271us/sample - loss: 0.0138 - val_loss: 0.0137\n",
            "Epoch 76/200\n",
            "10000/10000 [==============================] - 3s 268us/sample - loss: 0.0146 - val_loss: 0.0142\n",
            "Epoch 77/200\n",
            "10000/10000 [==============================] - 3s 261us/sample - loss: 0.0169 - val_loss: 0.0150\n",
            "Epoch 78/200\n",
            "10000/10000 [==============================] - 3s 269us/sample - loss: 0.0153 - val_loss: 0.0149\n",
            "Epoch 79/200\n",
            "10000/10000 [==============================] - 3s 262us/sample - loss: 0.0169 - val_loss: 0.0267\n",
            "Epoch 80/200\n",
            "10000/10000 [==============================] - 3s 275us/sample - loss: 0.0207 - val_loss: 0.0185\n",
            "Epoch 81/200\n",
            "10000/10000 [==============================] - 3s 264us/sample - loss: 0.0266 - val_loss: 0.0372\n",
            "Epoch 82/200\n",
            "10000/10000 [==============================] - 3s 270us/sample - loss: 0.0400 - val_loss: 0.0258\n",
            "Epoch 83/200\n",
            "10000/10000 [==============================] - 3s 268us/sample - loss: 0.0233 - val_loss: 0.0204\n",
            "Epoch 84/200\n",
            "10000/10000 [==============================] - 3s 258us/sample - loss: 0.0159 - val_loss: 0.0159\n",
            "Epoch 85/200\n",
            "10000/10000 [==============================] - 3s 256us/sample - loss: 0.0143 - val_loss: 0.0132\n",
            "Epoch 86/200\n",
            "10000/10000 [==============================] - 3s 270us/sample - loss: 0.0129 - val_loss: 0.0125\n",
            "Epoch 87/200\n",
            "10000/10000 [==============================] - 3s 277us/sample - loss: 0.0113 - val_loss: 0.0117\n",
            "Epoch 88/200\n",
            "10000/10000 [==============================] - 3s 256us/sample - loss: 0.0112 - val_loss: 0.0121\n",
            "Epoch 89/200\n",
            "10000/10000 [==============================] - 3s 273us/sample - loss: 0.0114 - val_loss: 0.0115\n",
            "Epoch 90/200\n",
            "10000/10000 [==============================] - 3s 273us/sample - loss: 0.0104 - val_loss: 0.0108\n",
            "Epoch 91/200\n",
            "10000/10000 [==============================] - 3s 267us/sample - loss: 0.0108 - val_loss: 0.0117\n",
            "Epoch 92/200\n",
            "10000/10000 [==============================] - 3s 258us/sample - loss: 0.0115 - val_loss: 0.0126\n",
            "Epoch 93/200\n",
            "10000/10000 [==============================] - 3s 266us/sample - loss: 0.0115 - val_loss: 0.0127\n",
            "Epoch 94/200\n",
            "10000/10000 [==============================] - 3s 258us/sample - loss: 0.0105 - val_loss: 0.0118\n",
            "Epoch 95/200\n",
            "10000/10000 [==============================] - 3s 263us/sample - loss: 0.0100 - val_loss: 0.0106\n",
            "Epoch 96/200\n",
            "10000/10000 [==============================] - 3s 274us/sample - loss: 0.0109 - val_loss: 0.0105\n",
            "Epoch 97/200\n",
            "10000/10000 [==============================] - 3s 271us/sample - loss: 0.0116 - val_loss: 0.0094\n",
            "Epoch 98/200\n",
            "10000/10000 [==============================] - 3s 261us/sample - loss: 0.0112 - val_loss: 0.0118\n",
            "Epoch 99/200\n",
            "10000/10000 [==============================] - 3s 253us/sample - loss: 0.0107 - val_loss: 0.0102\n",
            "Epoch 100/200\n",
            "10000/10000 [==============================] - 3s 269us/sample - loss: 0.0107 - val_loss: 0.0119\n",
            "Epoch 101/200\n",
            "10000/10000 [==============================] - 3s 266us/sample - loss: 0.0130 - val_loss: 0.0119\n",
            "Epoch 102/200\n",
            "10000/10000 [==============================] - 3s 260us/sample - loss: 0.0127 - val_loss: 0.0153\n",
            "Epoch 103/200\n",
            "10000/10000 [==============================] - 3s 268us/sample - loss: 0.0115 - val_loss: 0.0118\n",
            "Epoch 104/200\n",
            "10000/10000 [==============================] - 3s 272us/sample - loss: 0.0107 - val_loss: 0.0107\n",
            "Epoch 105/200\n",
            "10000/10000 [==============================] - 3s 272us/sample - loss: 0.0104 - val_loss: 0.0107\n",
            "Epoch 106/200\n",
            "10000/10000 [==============================] - 3s 264us/sample - loss: 0.0099 - val_loss: 0.0102\n",
            "Epoch 107/200\n",
            "10000/10000 [==============================] - 2s 249us/sample - loss: 0.0101 - val_loss: 0.0107\n",
            "Epoch 108/200\n",
            "10000/10000 [==============================] - 3s 262us/sample - loss: 0.0091 - val_loss: 0.0100\n",
            "Epoch 109/200\n",
            "10000/10000 [==============================] - 3s 270us/sample - loss: 0.0096 - val_loss: 0.0106\n",
            "Epoch 110/200\n",
            "10000/10000 [==============================] - 3s 270us/sample - loss: 0.0125 - val_loss: 0.0143\n",
            "Epoch 111/200\n",
            "10000/10000 [==============================] - 3s 254us/sample - loss: 0.0106 - val_loss: 0.0110\n",
            "Epoch 112/200\n",
            "10000/10000 [==============================] - 3s 269us/sample - loss: 0.0095 - val_loss: 0.0116\n",
            "Epoch 113/200\n",
            "10000/10000 [==============================] - 3s 268us/sample - loss: 0.0101 - val_loss: 0.0119\n",
            "Epoch 114/200\n",
            "10000/10000 [==============================] - 3s 266us/sample - loss: 0.0090 - val_loss: 0.0086\n",
            "Epoch 115/200\n",
            "10000/10000 [==============================] - 3s 253us/sample - loss: 0.0083 - val_loss: 0.0099\n",
            "Epoch 116/200\n",
            "10000/10000 [==============================] - 3s 273us/sample - loss: 0.0085 - val_loss: 0.0100\n",
            "Epoch 117/200\n",
            "10000/10000 [==============================] - 3s 260us/sample - loss: 0.0089 - val_loss: 0.0102\n",
            "Epoch 118/200\n",
            "10000/10000 [==============================] - 3s 268us/sample - loss: 0.0087 - val_loss: 0.0084\n",
            "Epoch 119/200\n",
            "10000/10000 [==============================] - 3s 270us/sample - loss: 0.0078 - val_loss: 0.0089\n",
            "Epoch 120/200\n",
            "10000/10000 [==============================] - 3s 267us/sample - loss: 0.0074 - val_loss: 0.0086\n",
            "Epoch 121/200\n",
            "10000/10000 [==============================] - 3s 260us/sample - loss: 0.0077 - val_loss: 0.0090\n",
            "Epoch 122/200\n",
            "10000/10000 [==============================] - 3s 259us/sample - loss: 0.0081 - val_loss: 0.0099\n",
            "Epoch 123/200\n",
            "10000/10000 [==============================] - 3s 270us/sample - loss: 0.0088 - val_loss: 0.0125\n",
            "Epoch 124/200\n",
            "10000/10000 [==============================] - 3s 260us/sample - loss: 0.0091 - val_loss: 0.0106\n",
            "Epoch 125/200\n",
            "10000/10000 [==============================] - 3s 264us/sample - loss: 0.0079 - val_loss: 0.0080\n",
            "Epoch 126/200\n",
            "10000/10000 [==============================] - 3s 266us/sample - loss: 0.0076 - val_loss: 0.0078\n",
            "Epoch 127/200\n",
            "10000/10000 [==============================] - 3s 269us/sample - loss: 0.0078 - val_loss: 0.0077\n",
            "Epoch 128/200\n",
            "10000/10000 [==============================] - 3s 262us/sample - loss: 0.0080 - val_loss: 0.0072\n",
            "Epoch 129/200\n",
            "10000/10000 [==============================] - 3s 261us/sample - loss: 0.0077 - val_loss: 0.0076\n",
            "Epoch 130/200\n",
            "10000/10000 [==============================] - 3s 256us/sample - loss: 0.0065 - val_loss: 0.0076\n",
            "Epoch 131/200\n",
            "10000/10000 [==============================] - 3s 268us/sample - loss: 0.0072 - val_loss: 0.0073\n",
            "Epoch 132/200\n",
            "10000/10000 [==============================] - 3s 272us/sample - loss: 0.0077 - val_loss: 0.0095\n",
            "Epoch 133/200\n",
            "10000/10000 [==============================] - 3s 264us/sample - loss: 0.0079 - val_loss: 0.0094\n",
            "Epoch 134/200\n",
            "10000/10000 [==============================] - 3s 264us/sample - loss: 0.0086 - val_loss: 0.0083\n",
            "Epoch 135/200\n",
            "10000/10000 [==============================] - 3s 271us/sample - loss: 0.0077 - val_loss: 0.0074\n",
            "Epoch 136/200\n",
            "10000/10000 [==============================] - 3s 264us/sample - loss: 0.0067 - val_loss: 0.0073\n",
            "Epoch 137/200\n",
            "10000/10000 [==============================] - 3s 263us/sample - loss: 0.0073 - val_loss: 0.0077\n",
            "Epoch 138/200\n",
            "10000/10000 [==============================] - 3s 264us/sample - loss: 0.0064 - val_loss: 0.0084\n",
            "Epoch 139/200\n",
            "10000/10000 [==============================] - 3s 268us/sample - loss: 0.0067 - val_loss: 0.0079\n",
            "Epoch 140/200\n",
            "10000/10000 [==============================] - 3s 258us/sample - loss: 0.0079 - val_loss: 0.0086\n",
            "Epoch 141/200\n",
            "10000/10000 [==============================] - 3s 266us/sample - loss: 0.0072 - val_loss: 0.0071\n",
            "Epoch 142/200\n",
            "10000/10000 [==============================] - 3s 265us/sample - loss: 0.0070 - val_loss: 0.0076\n",
            "Epoch 143/200\n",
            "10000/10000 [==============================] - 3s 265us/sample - loss: 0.0065 - val_loss: 0.0074\n",
            "Epoch 144/200\n",
            "10000/10000 [==============================] - 3s 259us/sample - loss: 0.0071 - val_loss: 0.0105\n",
            "Epoch 145/200\n",
            "10000/10000 [==============================] - 3s 260us/sample - loss: 0.0081 - val_loss: 0.0124\n",
            "Epoch 146/200\n",
            "10000/10000 [==============================] - 3s 265us/sample - loss: 0.0095 - val_loss: 0.0068\n",
            "Epoch 147/200\n",
            "10000/10000 [==============================] - 3s 260us/sample - loss: 0.0065 - val_loss: 0.0079\n",
            "Epoch 148/200\n",
            "10000/10000 [==============================] - 3s 278us/sample - loss: 0.0063 - val_loss: 0.0075\n",
            "Epoch 149/200\n",
            "10000/10000 [==============================] - 3s 271us/sample - loss: 0.0118 - val_loss: 0.0108\n",
            "Epoch 150/200\n",
            "10000/10000 [==============================] - 3s 264us/sample - loss: 0.0095 - val_loss: 0.0098\n",
            "Epoch 151/200\n",
            "10000/10000 [==============================] - 3s 264us/sample - loss: 0.0073 - val_loss: 0.0069\n",
            "Epoch 152/200\n",
            "10000/10000 [==============================] - 3s 253us/sample - loss: 0.0070 - val_loss: 0.0081\n",
            "Epoch 153/200\n",
            "10000/10000 [==============================] - 3s 259us/sample - loss: 0.0063 - val_loss: 0.0062\n",
            "Epoch 154/200\n",
            "10000/10000 [==============================] - 3s 268us/sample - loss: 0.0058 - val_loss: 0.0066\n",
            "Epoch 155/200\n",
            "10000/10000 [==============================] - 3s 277us/sample - loss: 0.0062 - val_loss: 0.0056\n",
            "Epoch 156/200\n",
            "10000/10000 [==============================] - 3s 262us/sample - loss: 0.0066 - val_loss: 0.0099\n",
            "Epoch 157/200\n",
            "10000/10000 [==============================] - 3s 272us/sample - loss: 0.0081 - val_loss: 0.0097\n",
            "Epoch 158/200\n",
            "10000/10000 [==============================] - 3s 268us/sample - loss: 0.0077 - val_loss: 0.0099\n",
            "Epoch 159/200\n",
            "10000/10000 [==============================] - 3s 267us/sample - loss: 0.0126 - val_loss: 0.0132\n",
            "Epoch 160/200\n",
            "10000/10000 [==============================] - 3s 258us/sample - loss: 0.0118 - val_loss: 0.0080\n",
            "Epoch 161/200\n",
            "10000/10000 [==============================] - 3s 270us/sample - loss: 0.0074 - val_loss: 0.0068\n",
            "Epoch 162/200\n",
            "10000/10000 [==============================] - 3s 270us/sample - loss: 0.0067 - val_loss: 0.0079\n",
            "Epoch 163/200\n",
            "10000/10000 [==============================] - 3s 265us/sample - loss: 0.0075 - val_loss: 0.0139\n",
            "Epoch 164/200\n",
            "10000/10000 [==============================] - 3s 279us/sample - loss: 0.0091 - val_loss: 0.0082\n",
            "Epoch 165/200\n",
            "10000/10000 [==============================] - 3s 288us/sample - loss: 0.0091 - val_loss: 0.0066\n",
            "Epoch 166/200\n",
            "10000/10000 [==============================] - 3s 277us/sample - loss: 0.0062 - val_loss: 0.0052\n",
            "Epoch 167/200\n",
            "10000/10000 [==============================] - 3s 273us/sample - loss: 0.0050 - val_loss: 0.0045\n",
            "Epoch 168/200\n",
            "10000/10000 [==============================] - 3s 271us/sample - loss: 0.0047 - val_loss: 0.0052\n",
            "Epoch 169/200\n",
            "10000/10000 [==============================] - 3s 266us/sample - loss: 0.0053 - val_loss: 0.0080\n",
            "Epoch 170/200\n",
            "10000/10000 [==============================] - 3s 274us/sample - loss: 0.0081 - val_loss: 0.0052\n",
            "Epoch 171/200\n",
            "10000/10000 [==============================] - 3s 283us/sample - loss: 0.0065 - val_loss: 0.0093\n",
            "Epoch 172/200\n",
            "10000/10000 [==============================] - 3s 279us/sample - loss: 0.0060 - val_loss: 0.0056\n",
            "Epoch 173/200\n",
            "10000/10000 [==============================] - 3s 265us/sample - loss: 0.0059 - val_loss: 0.0047\n",
            "Epoch 174/200\n",
            "10000/10000 [==============================] - 3s 258us/sample - loss: 0.0052 - val_loss: 0.0076\n",
            "Epoch 175/200\n",
            "10000/10000 [==============================] - 3s 259us/sample - loss: 0.0084 - val_loss: 0.0091\n",
            "Epoch 176/200\n",
            "10000/10000 [==============================] - 3s 265us/sample - loss: 0.0092 - val_loss: 0.0070\n",
            "Epoch 177/200\n",
            "10000/10000 [==============================] - 3s 273us/sample - loss: 0.0275 - val_loss: 0.0722\n",
            "Epoch 178/200\n",
            "10000/10000 [==============================] - 3s 271us/sample - loss: 0.0491 - val_loss: 0.0373\n",
            "Epoch 179/200\n",
            "10000/10000 [==============================] - 3s 268us/sample - loss: 0.0232 - val_loss: 0.0155\n",
            "Epoch 180/200\n",
            "10000/10000 [==============================] - 3s 267us/sample - loss: 0.0126 - val_loss: 0.0106\n",
            "Epoch 181/200\n",
            "10000/10000 [==============================] - 3s 263us/sample - loss: 0.0091 - val_loss: 0.0079\n",
            "Epoch 182/200\n",
            "10000/10000 [==============================] - 3s 268us/sample - loss: 0.0080 - val_loss: 0.0079\n",
            "Epoch 183/200\n",
            "10000/10000 [==============================] - 3s 268us/sample - loss: 0.0066 - val_loss: 0.0063\n",
            "Epoch 184/200\n",
            "10000/10000 [==============================] - 3s 261us/sample - loss: 0.0054 - val_loss: 0.0069\n",
            "Epoch 185/200\n",
            "10000/10000 [==============================] - 3s 259us/sample - loss: 0.0054 - val_loss: 0.0060\n",
            "Epoch 186/200\n",
            "10000/10000 [==============================] - 3s 260us/sample - loss: 0.0067 - val_loss: 0.0065\n",
            "Epoch 187/200\n",
            "10000/10000 [==============================] - 3s 261us/sample - loss: 0.0061 - val_loss: 0.0049\n",
            "Epoch 188/200\n",
            "10000/10000 [==============================] - 3s 266us/sample - loss: 0.0060 - val_loss: 0.0066\n",
            "Epoch 189/200\n",
            "10000/10000 [==============================] - 3s 269us/sample - loss: 0.0072 - val_loss: 0.0076\n",
            "Epoch 190/200\n",
            "10000/10000 [==============================] - 3s 273us/sample - loss: 0.0068 - val_loss: 0.0068\n",
            "Epoch 191/200\n",
            "10000/10000 [==============================] - 3s 268us/sample - loss: 0.0147 - val_loss: 0.0130\n",
            "Epoch 192/200\n",
            "10000/10000 [==============================] - 3s 265us/sample - loss: 0.0111 - val_loss: 0.0075\n",
            "Epoch 193/200\n",
            "10000/10000 [==============================] - 3s 275us/sample - loss: 0.0084 - val_loss: 0.0124\n",
            "Epoch 194/200\n",
            "10000/10000 [==============================] - 3s 275us/sample - loss: 0.0145 - val_loss: 0.0176\n",
            "Epoch 195/200\n",
            "10000/10000 [==============================] - 3s 274us/sample - loss: 0.0145 - val_loss: 0.0137\n",
            "Epoch 196/200\n",
            "10000/10000 [==============================] - 3s 269us/sample - loss: 0.0130 - val_loss: 0.0114\n",
            "Epoch 197/200\n",
            "10000/10000 [==============================] - 3s 255us/sample - loss: 0.0119 - val_loss: 0.0724\n",
            "Epoch 198/200\n",
            "10000/10000 [==============================] - 3s 270us/sample - loss: 0.0366 - val_loss: 0.0440\n",
            "Epoch 199/200\n",
            "10000/10000 [==============================] - 3s 268us/sample - loss: 0.0294 - val_loss: 0.0192\n",
            "Epoch 200/200\n",
            "10000/10000 [==============================] - 3s 271us/sample - loss: 0.0182 - val_loss: 0.0156\n"
          ],
          "name": "stdout"
        }
      ]
    },
    {
      "cell_type": "code",
      "metadata": {
        "id": "FcVcyv3V-rAJ",
        "colab_type": "code",
        "outputId": "27446e28-a6e3-45f1-9c43-57667344cc0e",
        "colab": {
          "base_uri": "https://localhost:8080/",
          "height": 572
        }
      },
      "source": [
        "plt.plot(history_two_axis.history['loss'])\n",
        "plt.title(\"Loss\")\n",
        "plt.xlabel(\"Epochs\")\n",
        "plt.ylabel(\"Error in Control\")\n",
        "plt.show()\n",
        "\n",
        "plt.plot(history_two_axis.history['val_loss'])\n",
        "plt.title(\"Validation loss\")\n",
        "plt.xlabel(\"Epochs\")\n",
        "plt.ylabel(\"Error in Control\")\n",
        "plt.show()"
      ],
      "execution_count": 0,
      "outputs": [
        {
          "output_type": "display_data",
          "data": {
            "image/png": "[encoded data removed]",
            "text/plain": [
              "<Figure size 432x288 with 1 Axes>"
            ]
          },
          "metadata": {
            "tags": []
          }
        },
        {
          "output_type": "display_data",
          "data": {
            "image/png": "[encoded data removed]",
            "text/plain": [
              "<Figure size 432x288 with 1 Axes>"
            ]
          },
          "metadata": {
            "tags": []
          }
        }
      ]
    },
    {
      "cell_type": "markdown",
      "metadata": {
        "id": "zBVLQZRBd4M4",
        "colab_type": "text"
      },
      "source": [
        "## 2. LSTM for learning time-dependent quantum noise"
      ]
    },
    {
      "cell_type": "markdown",
      "metadata": {
        "id": "X4hiTZTheWaq",
        "colab_type": "text"
      },
      "source": [
        "## 2.0 Model definition."
      ]
    },
    {
      "cell_type": "code",
      "metadata": {
        "id": "gMsuJCzDGPqR",
        "colab_type": "code",
        "colab": {}
      },
      "source": [
        "def build_model(batch_size, rnn_units, stateful=False): \n",
        "  model = tf.keras.Sequential([\n",
        "      tf.keras.layers.LSTM(\n",
        "           rnn_units,\n",
        "          return_sequences=True,\n",
        "          stateful=stateful,\n",
        "          recurrent_initializer='glorot_uniform',\n",
        "          batch_input_shape=[batch_size, None, 1]),\n",
        "      tf.keras.layers.Dense(1)\n",
        "  ])\n",
        "  return model \n",
        "\n",
        "def train_lstm(data, batch_size, rnn_units, epochs, learning_rate):\n",
        "  print('Start training.')\n",
        "  model = build_model(batch_size, rnn_units)\n",
        "\n",
        "  def loss(labels, logits):\n",
        "    return tf.keras.losses.binary_crossentropy(labels, logits, True)\n",
        "\n",
        " \n",
        "  optimizer = tf.keras.optimizers.Adamax( learning_rate) \n",
        "  model.compile(optimizer=optimizer, loss=loss)\n",
        "  model.summary()\n",
        " \n",
        " \n",
        "  model.fit(data, epochs= epochs)\n",
        "  eval_loss = model.evaluate(data)\n",
        "  print( \"final loss = \", eval_loss)\n",
        "  return model\n",
        "\n",
        "\n",
        "def sample_eval(weights,  eval_samples, epoch, rnn_units, input_lenth):\n",
        "  model = build_model( batch_size, rnn_units, True)\n",
        "  model.build(tf.TensorShape([ batch_size, None, 1]))\n",
        "  model.set_weights(weights)\n",
        "  # Whole sequence sampling and fidelity\n",
        "  eval_samples = eval_samples //  batch_size *  batch_size\n",
        "  sample_data = np.zeros(((eval_samples,  input_length)), np.float64)\n",
        "  sample_n = 0\n",
        "  model.summary()\n",
        "\n",
        "  while sample_n < eval_samples:\n",
        "    model.reset_states()\n",
        "    input_eval = tf.zeros([ batch_size, 1, 1])\n",
        "    output_eval = tf.reshape(model(input_eval), [ batch_size])\n",
        "    output_prob = 1 / (1 + np.exp(-output_eval.numpy()))\n",
        "    sample_data[sample_n:sample_n +  batch_size,\n",
        "                0] =output_prob\n",
        "    for i in range( input_length - 1):\n",
        "      input_eval = tf.cast(\n",
        "          tf.reshape(sample_data[sample_n:sample_n +  batch_size, i],\n",
        "                     [ batch_size, 1, 1]), tf.float32)\n",
        "      output_eval = tf.reshape(model(input_eval), [ batch_size])\n",
        "      output_prob = 1 / (1 + np.exp(-output_eval.numpy()))\n",
        "      sample_data[sample_n:sample_n +  batch_size,\n",
        "                  i + 1] = np.random.binomial(1, output_prob)\n",
        "    sample_n +=  batch_size\n",
        " \n",
        "\n",
        "\n",
        "def generate_data(data_time, data_length, omega_0, exponent, alpha):\n",
        "\n",
        "  timesteps = np.linspace(0.02, data_time, data_length)\n",
        "  q = cirq.GridQubit(0, 0)\n",
        "  phase_s = sympy.symbols(\"phaseshift\")\n",
        "  circuit = cirq.Circuit(cirq.H(q), cirq.Rz(phase_s)(q))\n",
        "  ops = [cirq.X(q)]\n",
        "\n",
        "  params = []\n",
        "  outputs = np.zeros(data_length)\n",
        "\n",
        "  for i in range(data_length):\n",
        "    phaseshift = timesteps[i] * omega_0 + alpha * timesteps[i] ** (exponent +1) / (exponent +1)\n",
        "    expectations = tfq.layers.Expectation()(\n",
        "        circuit,\n",
        "        symbol_names=[phase_s],\n",
        "        symbol_values=[[phaseshift]],\n",
        "        operators=ops \n",
        "    ).numpy().tolist()[0]\n",
        "     \n",
        "    outputs[i]= expectations[0] \n",
        "  return outputs\n",
        "     \n",
        "def load_data(data_size, data_time, data_length, alpha_min, alpha_max, omega_0, exponent):\n",
        "  alpha_list = np.linspace(alpha_min, alpha_max, data_size)\n",
        "  train_data = []\n",
        "  for k in range(data_size):\n",
        "    data1 = generate_data(data_time, data_length, omega_0, exponent, alpha_list[k])\n",
        "    train_data.append(data1)\n",
        "  return np.array(train_data)\n",
        "\n",
        "   \n",
        " "
      ],
      "execution_count": 0,
      "outputs": []
    },
    {
      "cell_type": "markdown",
      "metadata": {
        "id": "dCbdEZ4qeDty",
        "colab_type": "text"
      },
      "source": [
        "### 2.1 Generate training data"
      ]
    },
    {
      "cell_type": "code",
      "metadata": {
        "id": "iFLQEJ4r9uP6",
        "colab_type": "code",
        "colab": {}
      },
      "source": [
        "epoch = 30\n",
        "batch_size = 60\n",
        "learning_rate = 0.001\n",
        "\n",
        "rnn_units = 256\n",
        "data_size = 500\n",
        "alpha_min = 0.031\n",
        "alpha_max = 0.2\n",
        "exponent = 0.5\n",
        "omega_0 = 0.7 \n",
        "data_time = 0.5 / alpha_min\n",
        "data_length = 40\n",
        " \n",
        "\n",
        "train_data = load_data(data_size, data_time, data_length, alpha_min, alpha_max, omega_0, exponent)  # this should be a numpy array"
      ],
      "execution_count": 0,
      "outputs": []
    },
    {
      "cell_type": "markdown",
      "metadata": {
        "id": "WBNZYAO6edop",
        "colab_type": "text"
      },
      "source": [
        "## 2.2 Training the LSTM model on the time-dependent expectation values."
      ]
    },
    {
      "cell_type": "code",
      "metadata": {
        "id": "ikQ6MXZaec4B",
        "colab_type": "code",
        "colab": {}
      },
      "source": [
        "data = tf.data.Dataset.from_tensor_slices(train_data)\n",
        "\n",
        "def build_example(chunk):\n",
        "  input_seq = tf.cast(tf.concat([[0], chunk], 0), tf.float32)\n",
        "  target = tf.concat([chunk, [0]], 0)\n",
        "  input_seq = input_seq[:-1]\n",
        "  target = target[:-1]\n",
        "  return tf.expand_dims(input_seq, 1), tf.expand_dims(target, 1)\n",
        "BUFFER_SIZE = 100\n",
        "data = data.map(build_example).shuffle(BUFFER_SIZE).batch(\n",
        "    batch_size, drop_remainder=True)"
      ],
      "execution_count": 0,
      "outputs": []
    },
    {
      "cell_type": "code",
      "metadata": {
        "id": "89_k81SYxKFt",
        "colab_type": "code",
        "outputId": "3e2f80b8-f222-41d1-fd22-56e66ad6a291",
        "colab": {
          "base_uri": "https://localhost:8080/",
          "height": 1000
        }
      },
      "source": [
        "model = train_lstm(data, batch_size, rnn_units, epoch, learning_rate)"
      ],
      "execution_count": 0,
      "outputs": [
        {
          "output_type": "stream",
          "text": [
            "Start training.\n",
            "Model: \"sequential\"\n",
            "_________________________________________________________________\n",
            "Layer (type)                 Output Shape              Param #   \n",
            "=================================================================\n",
            "lstm (LSTM)                  (60, None, 256)           264192    \n",
            "_________________________________________________________________\n",
            "dense (Dense)                (60, None, 1)             257       \n",
            "=================================================================\n",
            "Total params: 264,449\n",
            "Trainable params: 264,449\n",
            "Non-trainable params: 0\n",
            "_________________________________________________________________\n",
            "Train for 8 steps\n",
            "Epoch 1/30\n",
            "8/8 [==============================] - 3s 322ms/step - loss: 0.6305\n",
            "Epoch 2/30\n",
            "8/8 [==============================] - 1s 159ms/step - loss: 0.2761\n",
            "Epoch 3/30\n",
            "8/8 [==============================] - 1s 156ms/step - loss: 0.1193\n",
            "Epoch 4/30\n",
            "8/8 [==============================] - 1s 153ms/step - loss: 0.0911\n",
            "Epoch 5/30\n",
            "8/8 [==============================] - 1s 153ms/step - loss: 0.0797\n",
            "Epoch 6/30\n",
            "8/8 [==============================] - 1s 155ms/step - loss: 0.0733\n",
            "Epoch 7/30\n",
            "8/8 [==============================] - 1s 150ms/step - loss: 0.0689\n",
            "Epoch 8/30\n",
            "8/8 [==============================] - 1s 154ms/step - loss: 0.0656\n",
            "Epoch 9/30\n",
            "8/8 [==============================] - 1s 155ms/step - loss: 0.0629\n",
            "Epoch 10/30\n",
            "8/8 [==============================] - 1s 153ms/step - loss: 0.0605\n",
            "Epoch 11/30\n",
            "8/8 [==============================] - 1s 151ms/step - loss: 0.0584\n",
            "Epoch 12/30\n",
            "8/8 [==============================] - 1s 151ms/step - loss: 0.0564\n",
            "Epoch 13/30\n",
            "8/8 [==============================] - 1s 155ms/step - loss: 0.0546\n",
            "Epoch 14/30\n",
            "8/8 [==============================] - 1s 150ms/step - loss: 0.0530\n",
            "Epoch 15/30\n",
            "8/8 [==============================] - 1s 148ms/step - loss: 0.0514\n",
            "Epoch 16/30\n",
            "8/8 [==============================] - 1s 148ms/step - loss: 0.0500\n",
            "Epoch 17/30\n",
            "8/8 [==============================] - 1s 153ms/step - loss: 0.0486\n",
            "Epoch 18/30\n",
            "8/8 [==============================] - 1s 150ms/step - loss: 0.0473\n",
            "Epoch 19/30\n",
            "8/8 [==============================] - 1s 150ms/step - loss: 0.0461\n",
            "Epoch 20/30\n",
            "8/8 [==============================] - 1s 148ms/step - loss: 0.0449\n",
            "Epoch 21/30\n",
            "8/8 [==============================] - 1s 146ms/step - loss: 0.0438\n",
            "Epoch 22/30\n",
            "8/8 [==============================] - 1s 154ms/step - loss: 0.0427\n",
            "Epoch 23/30\n",
            "8/8 [==============================] - 1s 150ms/step - loss: 0.0417\n",
            "Epoch 24/30\n",
            "8/8 [==============================] - 1s 146ms/step - loss: 0.0407\n",
            "Epoch 25/30\n",
            "8/8 [==============================] - 1s 148ms/step - loss: 0.0398\n",
            "Epoch 26/30\n",
            "8/8 [==============================] - 1s 146ms/step - loss: 0.0389\n",
            "Epoch 27/30\n",
            "8/8 [==============================] - 1s 153ms/step - loss: 0.0381\n",
            "Epoch 28/30\n",
            "8/8 [==============================] - 1s 153ms/step - loss: 0.0372\n",
            "Epoch 29/30\n",
            "8/8 [==============================] - 1s 154ms/step - loss: 0.0365\n",
            "Epoch 30/30\n",
            "8/8 [==============================] - 1s 152ms/step - loss: 0.0357\n",
            "8/8 [==============================] - 1s 101ms/step - loss: 0.0353\n",
            "final loss =  0.03528309985995293\n"
          ],
          "name": "stdout"
        }
      ]
    },
    {
      "cell_type": "code",
      "metadata": {
        "id": "V3a12DaDnKBg",
        "colab_type": "code",
        "outputId": "2082743d-0129-4210-8275-187c61b1628d",
        "colab": {
          "base_uri": "https://localhost:8080/",
          "height": 282
        }
      },
      "source": [
        "plt.plot(model.history.history['loss']) \n",
        "plt.xlabel(\"Training Epochs\", fontsize='14')\n",
        "plt.ylabel(\"Error in LSTM samples\", fontsize='14')\n",
        "plt.show()"
      ],
      "execution_count": 0,
      "outputs": [
        {
          "output_type": "display_data",
          "data": {
            "image/png": "[encoded data removed]",
            "text/plain": [
              "<Figure size 432x288 with 1 Axes>"
            ]
          },
          "metadata": {
            "tags": []
          }
        }
      ]
    }
  ]
}